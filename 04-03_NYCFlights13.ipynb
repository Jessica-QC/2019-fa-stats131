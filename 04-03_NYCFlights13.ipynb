{
  "cells": [
    {
      "cell_type": "code",
      "source": [
        "import numpy as np\n",
        "import pandas as pd\n",
        "import matplotlib.pyplot as plt"
      ],
      "outputs": [],
      "execution_count": 1,
      "metadata": {}
    },
    {
      "cell_type": "markdown",
      "source": [
        "## Loading the Data"
      ],
      "metadata": {}
    },
    {
      "cell_type": "code",
      "source": [
        "flights = pd.read_csv('nycflights.csv')"
      ],
      "outputs": [],
      "execution_count": 2,
      "metadata": {}
    },
    {
      "cell_type": "code",
      "source": [
        "flights.head()"
      ],
      "outputs": [
        {
          "output_type": "execute_result",
          "execution_count": 3,
          "data": {
            "text/plain": [
              "   year  month  day  dep_time  sched_dep_time  dep_delay  arr_time  \\\n",
              "0  2013      1    1     517.0             515        2.0     830.0   \n",
              "1  2013      1    1     533.0             529        4.0     850.0   \n",
              "2  2013      1    1     542.0             540        2.0     923.0   \n",
              "3  2013      1    1     544.0             545       -1.0    1004.0   \n",
              "4  2013      1    1     554.0             600       -6.0     812.0   \n",
              "\n",
              "   sched_arr_time  arr_delay carrier  flight tailnum origin dest  air_time  \\\n",
              "0             819       11.0      UA    1545  N14228    EWR  IAH     227.0   \n",
              "1             830       20.0      UA    1714  N24211    LGA  IAH     227.0   \n",
              "2             850       33.0      AA    1141  N619AA    JFK  MIA     160.0   \n",
              "3            1022      -18.0      B6     725  N804JB    JFK  BQN     183.0   \n",
              "4             837      -25.0      DL     461  N668DN    LGA  ATL     116.0   \n",
              "\n",
              "   distance  hour  minute      time_hour  \n",
              "0      1400     5      15  1/1/2013 5:00  \n",
              "1      1416     5      29  1/1/2013 5:00  \n",
              "2      1089     5      40  1/1/2013 5:00  \n",
              "3      1576     5      45  1/1/2013 5:00  \n",
              "4       762     6       0  1/1/2013 6:00  "
            ],
            "text/html": [
              "<div>\n",
              "<style scoped>\n",
              "    .dataframe tbody tr th:only-of-type {\n",
              "        vertical-align: middle;\n",
              "    }\n",
              "\n",
              "    .dataframe tbody tr th {\n",
              "        vertical-align: top;\n",
              "    }\n",
              "\n",
              "    .dataframe thead th {\n",
              "        text-align: right;\n",
              "    }\n",
              "</style>\n",
              "<table border=\"1\" class=\"dataframe\">\n",
              "  <thead>\n",
              "    <tr style=\"text-align: right;\">\n",
              "      <th></th>\n",
              "      <th>year</th>\n",
              "      <th>month</th>\n",
              "      <th>day</th>\n",
              "      <th>dep_time</th>\n",
              "      <th>sched_dep_time</th>\n",
              "      <th>dep_delay</th>\n",
              "      <th>arr_time</th>\n",
              "      <th>sched_arr_time</th>\n",
              "      <th>arr_delay</th>\n",
              "      <th>carrier</th>\n",
              "      <th>flight</th>\n",
              "      <th>tailnum</th>\n",
              "      <th>origin</th>\n",
              "      <th>dest</th>\n",
              "      <th>air_time</th>\n",
              "      <th>distance</th>\n",
              "      <th>hour</th>\n",
              "      <th>minute</th>\n",
              "      <th>time_hour</th>\n",
              "    </tr>\n",
              "  </thead>\n",
              "  <tbody>\n",
              "    <tr>\n",
              "      <th>0</th>\n",
              "      <td>2013</td>\n",
              "      <td>1</td>\n",
              "      <td>1</td>\n",
              "      <td>517.0</td>\n",
              "      <td>515</td>\n",
              "      <td>2.0</td>\n",
              "      <td>830.0</td>\n",
              "      <td>819</td>\n",
              "      <td>11.0</td>\n",
              "      <td>UA</td>\n",
              "      <td>1545</td>\n",
              "      <td>N14228</td>\n",
              "      <td>EWR</td>\n",
              "      <td>IAH</td>\n",
              "      <td>227.0</td>\n",
              "      <td>1400</td>\n",
              "      <td>5</td>\n",
              "      <td>15</td>\n",
              "      <td>1/1/2013 5:00</td>\n",
              "    </tr>\n",
              "    <tr>\n",
              "      <th>1</th>\n",
              "      <td>2013</td>\n",
              "      <td>1</td>\n",
              "      <td>1</td>\n",
              "      <td>533.0</td>\n",
              "      <td>529</td>\n",
              "      <td>4.0</td>\n",
              "      <td>850.0</td>\n",
              "      <td>830</td>\n",
              "      <td>20.0</td>\n",
              "      <td>UA</td>\n",
              "      <td>1714</td>\n",
              "      <td>N24211</td>\n",
              "      <td>LGA</td>\n",
              "      <td>IAH</td>\n",
              "      <td>227.0</td>\n",
              "      <td>1416</td>\n",
              "      <td>5</td>\n",
              "      <td>29</td>\n",
              "      <td>1/1/2013 5:00</td>\n",
              "    </tr>\n",
              "    <tr>\n",
              "      <th>2</th>\n",
              "      <td>2013</td>\n",
              "      <td>1</td>\n",
              "      <td>1</td>\n",
              "      <td>542.0</td>\n",
              "      <td>540</td>\n",
              "      <td>2.0</td>\n",
              "      <td>923.0</td>\n",
              "      <td>850</td>\n",
              "      <td>33.0</td>\n",
              "      <td>AA</td>\n",
              "      <td>1141</td>\n",
              "      <td>N619AA</td>\n",
              "      <td>JFK</td>\n",
              "      <td>MIA</td>\n",
              "      <td>160.0</td>\n",
              "      <td>1089</td>\n",
              "      <td>5</td>\n",
              "      <td>40</td>\n",
              "      <td>1/1/2013 5:00</td>\n",
              "    </tr>\n",
              "    <tr>\n",
              "      <th>3</th>\n",
              "      <td>2013</td>\n",
              "      <td>1</td>\n",
              "      <td>1</td>\n",
              "      <td>544.0</td>\n",
              "      <td>545</td>\n",
              "      <td>-1.0</td>\n",
              "      <td>1004.0</td>\n",
              "      <td>1022</td>\n",
              "      <td>-18.0</td>\n",
              "      <td>B6</td>\n",
              "      <td>725</td>\n",
              "      <td>N804JB</td>\n",
              "      <td>JFK</td>\n",
              "      <td>BQN</td>\n",
              "      <td>183.0</td>\n",
              "      <td>1576</td>\n",
              "      <td>5</td>\n",
              "      <td>45</td>\n",
              "      <td>1/1/2013 5:00</td>\n",
              "    </tr>\n",
              "    <tr>\n",
              "      <th>4</th>\n",
              "      <td>2013</td>\n",
              "      <td>1</td>\n",
              "      <td>1</td>\n",
              "      <td>554.0</td>\n",
              "      <td>600</td>\n",
              "      <td>-6.0</td>\n",
              "      <td>812.0</td>\n",
              "      <td>837</td>\n",
              "      <td>-25.0</td>\n",
              "      <td>DL</td>\n",
              "      <td>461</td>\n",
              "      <td>N668DN</td>\n",
              "      <td>LGA</td>\n",
              "      <td>ATL</td>\n",
              "      <td>116.0</td>\n",
              "      <td>762</td>\n",
              "      <td>6</td>\n",
              "      <td>0</td>\n",
              "      <td>1/1/2013 6:00</td>\n",
              "    </tr>\n",
              "  </tbody>\n",
              "</table>\n",
              "</div>"
            ]
          },
          "metadata": {}
        }
      ],
      "execution_count": 3,
      "metadata": {
        "scrolled": true
      }
    },
    {
      "cell_type": "code",
      "source": [
        "flights.info()"
      ],
      "outputs": [],
      "execution_count": null,
      "metadata": {}
    },
    {
      "cell_type": "markdown",
      "source": [
        "We load the data, take a look at the head, and the descriptions.\n",
        "\n",
        "It seems that dep_time, dep_delay, arr_time, arr_delay, and air_time were all converted into floats. These are supposed to represent times where '1455' represent the time '14:55'. There should not be any decimal values. The fact that decimals are appearing means that something happened in the import that made python believe they were floating point numbers."
      ],
      "metadata": {}
    },
    {
      "cell_type": "code",
      "source": [
        "flights.tail()"
      ],
      "outputs": [],
      "execution_count": null,
      "metadata": {}
    },
    {
      "cell_type": "markdown",
      "source": [
        "An inspection of the tail shows that there are missing values in dep_time and the other columns. Because python represents missing numeric values with NaN, they were convered to floating point numbers.\n",
        "\n",
        "We will reload the flights csv file, this time specifying the offending columns as 'object' type. (It's a little weird, but we do not use str type because str uses NumPy's str type which is different from regular Python strings. To use Python strings, Pandas uses 'object' type)"
      ],
      "metadata": {}
    },
    {
      "cell_type": "markdown",
      "source": [
        "## Loading the data again and doing a little bit of clean up"
      ],
      "metadata": {}
    },
    {
      "cell_type": "code",
      "source": [
        "flights = pd.read_csv('nycflights.csv', dtype = {'dep_time' : object, \n",
        "                                                 'dep_delay': object, \n",
        "                                                 'arr_time' : object, \n",
        "                                                 'arr_delay': object, \n",
        "                                                 'air_time' : object})"
      ],
      "outputs": [],
      "execution_count": null,
      "metadata": {}
    },
    {
      "cell_type": "code",
      "source": [
        "flights.head() # the dep_time column no longer has any decimals in it."
      ],
      "outputs": [],
      "execution_count": null,
      "metadata": {}
    },
    {
      "cell_type": "code",
      "source": [
        "flights.tail(10) # the missing values are still preserved"
      ],
      "outputs": [],
      "execution_count": null,
      "metadata": {}
    },
    {
      "cell_type": "markdown",
      "source": [
        "The next thing I notice is that the dates are split across three columns: year, month, day.\n",
        "\n",
        "I will use Python's date functions to combine the three values into a single date value"
      ],
      "metadata": {}
    },
    {
      "cell_type": "code",
      "source": [
        "flights['date'] = pd.to_datetime({'year':flights.year, 'month':flights.month, 'day':flights.day})"
      ],
      "outputs": [],
      "execution_count": null,
      "metadata": {}
    },
    {
      "cell_type": "code",
      "source": [
        "flights.head() # we have now appeneded a new column that shows the date"
      ],
      "outputs": [],
      "execution_count": null,
      "metadata": {}
    },
    {
      "cell_type": "markdown",
      "source": [
        "With the times expressed as they are, we can't calculate the real time difference between columns. The time between '600' and '545' is really only 15 minutes, but the math will make the wrong calculation of 55. Thus, we need to split our text into hour and minute and make them into date-time values."
      ],
      "metadata": {}
    },
    {
      "cell_type": "code",
      "source": [
        "# we filter the dep_time to just non_null values\n",
        "# I will extract the minute values by treating the series as a string and pulling the last two characters\n",
        "# we get the hour by taking everything but the last two characters\n",
        "dep_min  = flights.dep_time[ flights.dep_time.notnull() ].astype(str).str[-2:  ]\n",
        "dep_hour = flights.dep_time[ flights.dep_time.notnull() ].astype(str).str[  :-2]\n",
        "print(dep_hour.head())\n",
        "print(dep_min.head())"
      ],
      "outputs": [],
      "execution_count": null,
      "metadata": {}
    },
    {
      "cell_type": "code",
      "source": [
        "dep_date_time = pd.to_datetime({'year':flights.year, 'month':flights.month, 'day':flights.day, \n",
        "                                'hour': dep_hour, 'minute': dep_min})"
      ],
      "outputs": [],
      "execution_count": null,
      "metadata": {}
    },
    {
      "cell_type": "code",
      "source": [
        "print(dep_date_time.head(10))\n",
        "print(dep_date_time.tail())"
      ],
      "outputs": [],
      "execution_count": null,
      "metadata": {}
    },
    {
      "cell_type": "markdown",
      "source": [
        "I'd like to do the same kind of conversion for all of the other time columns. \n",
        "\n",
        "Instead of copying and pasting the code and modifying it for each column, I'm going to build a function."
      ],
      "metadata": {}
    },
    {
      "cell_type": "code",
      "source": [
        "def convert_time(column_name):\n",
        "    the_min = flights[column_name][ flights[column_name].notnull() ].astype(str).str[-2:  ]\n",
        "    the_hr  = flights[column_name][ flights[column_name].notnull() ].astype(str).str[  :-2]\n",
        "    date_time = pd.to_datetime({'year':flights.year, 'month':flights.month, 'day':flights.day, \n",
        "                                'hour': the_hr, 'minute': the_min})\n",
        "    # the magic of indexes allow us to combine flights.year which has all the rows\n",
        "    # and the_hr which only exists for rows where dep_time is not NaN\n",
        "    return date_time"
      ],
      "outputs": [],
      "execution_count": null,
      "metadata": {}
    },
    {
      "cell_type": "code",
      "source": [
        "# let's test out the function\n",
        "dep_date_time = convert_time('dep_time')"
      ],
      "outputs": [],
      "execution_count": null,
      "metadata": {}
    },
    {
      "cell_type": "code",
      "source": [
        "print(dep_date_time.head(10))\n",
        "print(dep_date_time.tail(10))"
      ],
      "outputs": [],
      "execution_count": null,
      "metadata": {}
    },
    {
      "cell_type": "code",
      "source": [
        "# seems to work!\n",
        "# let's go ahead and use it:\n",
        "# dep_date_time       = convert_time('dep_time')\n",
        "sched_dep_date_time = convert_time('sched_dep_time')\n",
        "arr_date_time       = convert_time('arr_time')\n",
        "sched_arr_date_time = convert_time('sched_arr_time')"
      ],
      "outputs": [],
      "execution_count": null,
      "metadata": {}
    },
    {
      "cell_type": "code",
      "source": [
        "# pd.concat creates a new dataframe by joining several pandas objects together\n",
        "datetimes = pd.concat({'dep_date_time': dep_date_time,\n",
        "           'sched_dep_date_time': sched_dep_date_time, \n",
        "           'arr_date_time':arr_date_time, \n",
        "           'sched_arr_date_time':sched_arr_date_time}, axis = 1)\n",
        "datetimes.head()"
      ],
      "outputs": [],
      "execution_count": null,
      "metadata": {
        "scrolled": true
      }
    },
    {
      "cell_type": "code",
      "source": [
        "flights = flights.join(datetimes)  # we use the .join() function"
      ],
      "outputs": [],
      "execution_count": null,
      "metadata": {}
    },
    {
      "cell_type": "code",
      "source": [
        "flights.head()"
      ],
      "outputs": [],
      "execution_count": null,
      "metadata": {}
    },
    {
      "cell_type": "markdown",
      "source": [
        "Let's go ahead and drop the year, month, and day columns as we don't need them anymore."
      ],
      "metadata": {}
    },
    {
      "cell_type": "code",
      "source": [
        "flights = flights.drop(['year','month','day'], axis = 1)"
      ],
      "outputs": [],
      "execution_count": null,
      "metadata": {}
    },
    {
      "cell_type": "code",
      "source": [
        "flights.head()"
      ],
      "outputs": [],
      "execution_count": null,
      "metadata": {}
    },
    {
      "cell_type": "markdown",
      "source": [
        "If we need to get the month or day, we can extract them using the .dt. object attributes"
      ],
      "metadata": {}
    },
    {
      "cell_type": "code",
      "source": [
        "flights.date.dt.month.head()"
      ],
      "outputs": [],
      "execution_count": null,
      "metadata": {}
    },
    {
      "cell_type": "markdown",
      "source": [
        "Now that we've got the data in and cleaned up, let's do some Basic Exploratory Analysis"
      ],
      "metadata": {}
    },
    {
      "cell_type": "markdown",
      "source": [
        "## Let's start with some basics:"
      ],
      "metadata": {}
    },
    {
      "cell_type": "markdown",
      "source": [
        "### How many unique carriers are there? How many flights for each carrier?"
      ],
      "metadata": {}
    },
    {
      "cell_type": "code",
      "source": [
        "flights.carrier.unique()"
      ],
      "outputs": [],
      "execution_count": null,
      "metadata": {}
    },
    {
      "cell_type": "code",
      "source": [
        "flights.carrier.nunique()"
      ],
      "outputs": [],
      "execution_count": null,
      "metadata": {}
    },
    {
      "cell_type": "code",
      "source": [
        "carrier_counts = flights.carrier.value_counts()\n",
        "carrier_counts"
      ],
      "outputs": [],
      "execution_count": null,
      "metadata": {}
    },
    {
      "cell_type": "code",
      "source": [
        "airlines = pd.read_csv('airlines.csv', index_col = 'carrier')\n",
        "airlines"
      ],
      "outputs": [],
      "execution_count": null,
      "metadata": {}
    },
    {
      "cell_type": "code",
      "source": [
        "airlines_count = airlines.join(carrier_counts)\n",
        "airlines_count"
      ],
      "outputs": [],
      "execution_count": null,
      "metadata": {}
    },
    {
      "cell_type": "code",
      "source": [
        "airlines_count.rename(index = str, columns = {\"name\": \"name\", \"carrier\": \"count\" })"
      ],
      "outputs": [],
      "execution_count": null,
      "metadata": {}
    },
    {
      "cell_type": "markdown",
      "source": [
        "### What about origination airports?"
      ],
      "metadata": {}
    },
    {
      "cell_type": "code",
      "source": [
        "flights.origin.unique()"
      ],
      "outputs": [],
      "execution_count": null,
      "metadata": {}
    },
    {
      "cell_type": "code",
      "source": [
        "flights.origin.value_counts()  # it appears that the three airports in the new york area are used with similar frequency"
      ],
      "outputs": [],
      "execution_count": null,
      "metadata": {}
    },
    {
      "cell_type": "code",
      "source": [
        "# alternative method using .groupby(), which is similar to dplyr::groupby\n",
        "flights.groupby('origin').sched_dep_date_time.count()"
      ],
      "outputs": [],
      "execution_count": null,
      "metadata": {}
    },
    {
      "cell_type": "code",
      "source": [
        "# if we perform a count on the dep_date_time column, it does not include NaNs.\n",
        "flights.groupby('origin').dep_date_time.count()"
      ],
      "outputs": [],
      "execution_count": null,
      "metadata": {}
    },
    {
      "cell_type": "markdown",
      "source": [
        "### Destination airports?"
      ],
      "metadata": {}
    },
    {
      "cell_type": "code",
      "source": [
        "flights.dest.unique()"
      ],
      "outputs": [],
      "execution_count": null,
      "metadata": {}
    },
    {
      "cell_type": "code",
      "source": [
        "flights.dest.nunique()  # 105 destinations"
      ],
      "outputs": [],
      "execution_count": null,
      "metadata": {}
    },
    {
      "cell_type": "code",
      "source": [
        "flights.dest.value_counts().head(10)  # a quick peek at the top 10 destinations"
      ],
      "outputs": [],
      "execution_count": null,
      "metadata": {}
    },
    {
      "cell_type": "markdown",
      "source": [
        "### Which month is most busy?"
      ],
      "metadata": {}
    },
    {
      "cell_type": "code",
      "source": [
        "flights.dep_date_time.dt.month.value_counts()"
      ],
      "outputs": [],
      "execution_count": null,
      "metadata": {}
    },
    {
      "cell_type": "code",
      "source": [
        "flights.dep_date_time.dt.month.value_counts().sort_index().plot(kind = 'bar', color = 'dodgerblue')\n",
        "plt.title('Number of Flights Each Month')\n",
        "plt.show()"
      ],
      "outputs": [],
      "execution_count": null,
      "metadata": {}
    },
    {
      "cell_type": "markdown",
      "source": [
        "### What time of day is most busy?"
      ],
      "metadata": {}
    },
    {
      "cell_type": "code",
      "source": [
        "# using groupby instead of value_counts\n",
        "flights.groupby(dep_date_time.dt.hour).date.count()"
      ],
      "outputs": [],
      "execution_count": null,
      "metadata": {}
    },
    {
      "cell_type": "code",
      "source": [
        "flights.groupby(dep_date_time.dt.hour).date.count().plot(kind = 'bar', color = 'dodgerblue')\n",
        "plt.title('Flights Each Hour')\n",
        "plt.show()"
      ],
      "outputs": [],
      "execution_count": null,
      "metadata": {}
    }
  ],
  "metadata": {
    "kernelspec": {
      "name": "python3",
      "language": "python",
      "display_name": "Python 3"
    },
    "language_info": {
      "name": "python",
      "version": "3.7.3",
      "mimetype": "text/x-python",
      "codemirror_mode": {
        "name": "ipython",
        "version": 3
      },
      "pygments_lexer": "ipython3",
      "nbconvert_exporter": "python",
      "file_extension": ".py"
    },
    "kernel_info": {
      "name": "python3"
    },
    "nteract": {
      "version": "0.15.0"
    }
  },
  "nbformat": 4,
  "nbformat_minor": 2
}