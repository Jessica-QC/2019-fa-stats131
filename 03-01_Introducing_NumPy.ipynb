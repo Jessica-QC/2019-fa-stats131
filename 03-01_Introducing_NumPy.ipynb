{
  "cells": [
    {
      "cell_type": "markdown",
      "source": [
        "# NumPy"
      ],
      "metadata": {}
    },
    {
      "cell_type": "markdown",
      "source": [
        "Based on Python Data Science Handbook by Jake VanderPlas"
      ],
      "metadata": {}
    },
    {
      "cell_type": "markdown",
      "source": [
        "## ALWAYS do: `import numpy as np`\n",
        "This is a convention that everyone follows. If you do not do this, other people will have a hard time reading your code"
      ],
      "metadata": {}
    },
    {
      "cell_type": "code",
      "source": [
        "import numpy as np"
      ],
      "outputs": [],
      "execution_count": 1,
      "metadata": {}
    },
    {
      "cell_type": "code",
      "source": [
        "np.__version__"
      ],
      "outputs": [
        {
          "output_type": "execute_result",
          "execution_count": 2,
          "data": {
            "text/plain": [
              "'1.16.2'"
            ]
          },
          "metadata": {}
        }
      ],
      "execution_count": 2,
      "metadata": {}
    },
    {
      "cell_type": "markdown",
      "source": [
        "## Numpy arrays\n",
        "- arrays can only contain data of the same data type (similar to atomic vectors or matrices in R)"
      ],
      "metadata": {}
    },
    {
      "cell_type": "markdown",
      "source": [
        "## Array creation\n",
        "- direct creation with `np.array()`\n",
        "- Create a list with square brackets, and put that inside `np.array()`"
      ],
      "metadata": {}
    },
    {
      "cell_type": "code",
      "source": [
        "np.array( [1,2,3] )"
      ],
      "outputs": [
        {
          "output_type": "execute_result",
          "execution_count": 3,
          "data": {
            "text/plain": [
              "array([1, 2, 3])"
            ]
          },
          "metadata": {}
        }
      ],
      "execution_count": 3,
      "metadata": {}
    },
    {
      "cell_type": "code",
      "source": [
        "a = np.array([1, 2, 3])\n",
        "print(a) # printing an array appears different from the array([]) in ipython"
      ],
      "outputs": [],
      "execution_count": null,
      "metadata": {}
    },
    {
      "cell_type": "code",
      "source": [
        "print([1,2,3])"
      ],
      "outputs": [],
      "execution_count": null,
      "metadata": {}
    },
    {
      "cell_type": "code",
      "source": [
        "type(a)"
      ],
      "outputs": [],
      "execution_count": null,
      "metadata": {}
    },
    {
      "cell_type": "code",
      "source": [
        "b = np.array([1, 2, 3.0, False, True])\n",
        "print(b) # the 3.0 is a float and will upcast (coerce) other values to floats"
      ],
      "outputs": [],
      "execution_count": null,
      "metadata": {}
    },
    {
      "cell_type": "code",
      "source": [
        "c = np.array([1, 2, \"3\", True, False]) # upcast (coerced) to strings\n",
        "print(c)"
      ],
      "outputs": [],
      "execution_count": null,
      "metadata": {}
    },
    {
      "cell_type": "markdown",
      "source": [
        "If you provide a list of lists, you can create a multi-dimensional array. (Like a matrix)"
      ],
      "metadata": {}
    },
    {
      "cell_type": "code",
      "source": [
        "d = np.array( [ [1,2,3] , [4,5,6] ] ) \n",
        "print(d)"
      ],
      "outputs": [],
      "execution_count": null,
      "metadata": {}
    },
    {
      "cell_type": "markdown",
      "source": [
        "but if the dimensions don't match, you'll get an array of lists... which is not as useful."
      ],
      "metadata": {}
    },
    {
      "cell_type": "code",
      "source": [
        "e = np.array([ [1,2,3],[4,5] ])\n",
        "print(e)"
      ],
      "outputs": [],
      "execution_count": null,
      "metadata": {}
    },
    {
      "cell_type": "markdown",
      "source": [
        "## Other ways to make arrays"
      ],
      "metadata": {}
    },
    {
      "cell_type": "code",
      "source": [
        "np.zeros(5) # makes an array of 0s. similar to rep(0, 5)"
      ],
      "outputs": [],
      "execution_count": null,
      "metadata": {}
    },
    {
      "cell_type": "code",
      "source": [
        "np.zeros(5, dtype = int)  # default is to make floats, you can specify ints"
      ],
      "outputs": [],
      "execution_count": null,
      "metadata": {}
    },
    {
      "cell_type": "code",
      "source": [
        "np.zeros([2,4])  # makes an array 2x4"
      ],
      "outputs": [],
      "execution_count": null,
      "metadata": {}
    },
    {
      "cell_type": "code",
      "source": [
        "np.zeros([2,3,4]) # 3 dimensional array 2 x 3 x 4... \n",
        "# notice the order of creation: 2 'sheets' of 3 rows by 4 columns"
      ],
      "outputs": [],
      "execution_count": null,
      "metadata": {}
    },
    {
      "cell_type": "code",
      "source": [
        "np.zeros([2,3,4,5])\n",
        "# make 2 'blocks', each with 3 'sheets', of 4 rows, and 5 columns"
      ],
      "outputs": [],
      "execution_count": null,
      "metadata": {}
    },
    {
      "cell_type": "code",
      "source": [
        "np.ones(5)  # similar, but inserts ones"
      ],
      "outputs": [],
      "execution_count": null,
      "metadata": {}
    },
    {
      "cell_type": "code",
      "source": [
        "np.full([2,3], 1.2)  # similar, but you specify one value that gets repeated"
      ],
      "outputs": [],
      "execution_count": null,
      "metadata": {}
    },
    {
      "cell_type": "markdown",
      "source": [
        "## Making arrays of random numbers\n",
        "numpy uses the Mersenne Twister\n",
        "- All random generator functions begin with `np.random.`"
      ],
      "metadata": {}
    },
    {
      "cell_type": "code",
      "source": [
        "np.random.seed(1)  # seed the generator for reproducibility"
      ],
      "outputs": [],
      "execution_count": null,
      "metadata": {}
    },
    {
      "cell_type": "code",
      "source": [
        "np.random.random(5)  # random.random for random values on the interval [0,1)"
      ],
      "outputs": [],
      "execution_count": null,
      "metadata": {}
    },
    {
      "cell_type": "code",
      "source": [
        "np.random.randn(5)\n",
        "# random.randn for random normal from standard normal\n",
        "# this command will produce 5 values"
      ],
      "outputs": [],
      "execution_count": null,
      "metadata": {}
    },
    {
      "cell_type": "code",
      "source": [
        "np.random.normal(10, 3, [2, 4])\n",
        "# random.randn for random normal from normal with mean 10 and sd 3\n",
        "# arranged in a 2 x 4 matrix"
      ],
      "outputs": [],
      "execution_count": null,
      "metadata": {}
    },
    {
      "cell_type": "code",
      "source": [
        "np.random.randint(0, 10, 20) \n",
        "# select random integers from 0 inclusive to 10 exclusive\n",
        "# and return 20 values"
      ],
      "outputs": [],
      "execution_count": null,
      "metadata": {}
    },
    {
      "cell_type": "code",
      "source": [
        "# simulate dice rolls\n",
        "np.random.randint(1,7, 50)"
      ],
      "outputs": [],
      "execution_count": null,
      "metadata": {}
    },
    {
      "cell_type": "markdown",
      "source": [
        "More random generation at: <https://docs.scipy.org/doc/numpy-1.15.1/reference/routines.random.html>"
      ],
      "metadata": {}
    },
    {
      "cell_type": "markdown",
      "source": [
        "## Array sequences\n",
        "make sequences with\n",
        "\n",
        "- `np.arange(start, stop, step)`  \n",
        "-  makes an **a**rray **range** from start (inclusive) to stop (exclusive), by step"
      ],
      "metadata": {}
    },
    {
      "cell_type": "code",
      "source": [
        "range(0, 10, 2) # range object in regular python"
      ],
      "outputs": [],
      "execution_count": null,
      "metadata": {}
    },
    {
      "cell_type": "code",
      "source": [
        "list(range(0, 10, 2))"
      ],
      "outputs": [],
      "execution_count": null,
      "metadata": {}
    },
    {
      "cell_type": "code",
      "source": [
        "np.arange(0, 10, 2)  # numpy's arange function"
      ],
      "outputs": [],
      "execution_count": null,
      "metadata": {}
    },
    {
      "cell_type": "code",
      "source": [
        "np.array(range(0,10,2)) # equivalent 'manual' creation"
      ],
      "outputs": [],
      "execution_count": null,
      "metadata": {}
    },
    {
      "cell_type": "code",
      "source": [
        "np.arange(0, 100, 5)"
      ],
      "outputs": [],
      "execution_count": null,
      "metadata": {}
    },
    {
      "cell_type": "code",
      "source": [
        "np.arange(20) # quickest"
      ],
      "outputs": [],
      "execution_count": null,
      "metadata": {}
    },
    {
      "cell_type": "markdown",
      "source": [
        "- `np.linspace(start, stop, num)`\n",
        "- makes an array of **lin**ear **space**d values beginning with start, ending with stop (inclusive), with a length of num"
      ],
      "metadata": {}
    },
    {
      "cell_type": "code",
      "source": [
        "np.linspace(0, 100, 11)"
      ],
      "outputs": [],
      "execution_count": null,
      "metadata": {}
    },
    {
      "cell_type": "code",
      "source": [
        "np.linspace(0, 100, 10)"
      ],
      "outputs": [],
      "execution_count": null,
      "metadata": {}
    },
    {
      "cell_type": "code",
      "source": [
        "np.linspace(0, 100, 10, endpoint = False)  # optional parameter endpoint to exclude the stop value"
      ],
      "outputs": [],
      "execution_count": null,
      "metadata": {}
    },
    {
      "cell_type": "code",
      "source": [
        "np.linspace(0, 100, 9, endpoint = False) \n",
        "# if you use the endpoint argument, the last number in the array will depend on the output length"
      ],
      "outputs": [],
      "execution_count": null,
      "metadata": {}
    },
    {
      "cell_type": "markdown",
      "source": [
        "# Array Attributes\n",
        "- `array.ndim` for number of dimensions\n",
        "- `array.shape` for the size of each dimension\n",
        "- `array.dtype` for the data type "
      ],
      "metadata": {}
    },
    {
      "cell_type": "code",
      "source": [
        "x = np.ones([3,4])\n",
        "print(x)"
      ],
      "outputs": [],
      "execution_count": null,
      "metadata": {}
    },
    {
      "cell_type": "code",
      "source": [
        "x.ndim"
      ],
      "outputs": [],
      "execution_count": null,
      "metadata": {}
    },
    {
      "cell_type": "code",
      "source": [
        "x.shape"
      ],
      "outputs": [],
      "execution_count": null,
      "metadata": {}
    },
    {
      "cell_type": "code",
      "source": [
        "x.dtype"
      ],
      "outputs": [],
      "execution_count": null,
      "metadata": {}
    },
    {
      "cell_type": "code",
      "source": [
        "y = np.arange(0, 12, 1)\n",
        "print(y)"
      ],
      "outputs": [],
      "execution_count": null,
      "metadata": {}
    },
    {
      "cell_type": "code",
      "source": [
        "y.ndim"
      ],
      "outputs": [],
      "execution_count": null,
      "metadata": {
        "tags": [
          "raises-exception"
        ]
      }
    },
    {
      "cell_type": "code",
      "source": [
        "y.shape # a one dimensional array. Note that there's no second dimension."
      ],
      "outputs": [],
      "execution_count": null,
      "metadata": {}
    },
    {
      "cell_type": "markdown",
      "source": [
        "## Reshaping Arrays\n",
        "\n",
        "- `np.reshape(array, [new shape])` returns a new array that is reshaped\n",
        "    - you can also use the method `array.reshape(shape)`\n",
        "- `array.T` is the transpose method, but leaves the original array unaffected\n"
      ],
      "metadata": {}
    },
    {
      "cell_type": "code",
      "source": [
        "j = np.arange(0,12,1)\n",
        "print(j) # j is one dimensional"
      ],
      "outputs": [],
      "execution_count": null,
      "metadata": {}
    },
    {
      "cell_type": "code",
      "source": [
        "k = np.reshape(j, [3,4])  # note that it fills row-wise unlike R\n",
        "print(k)"
      ],
      "outputs": [],
      "execution_count": null,
      "metadata": {}
    },
    {
      "cell_type": "code",
      "source": [
        "j # j is left unchanged"
      ],
      "outputs": [],
      "execution_count": null,
      "metadata": {}
    },
    {
      "cell_type": "code",
      "source": [
        "j.reshape(4,3)  # you can also call the method reshape() on the array j"
      ],
      "outputs": [],
      "execution_count": null,
      "metadata": {}
    },
    {
      "cell_type": "code",
      "source": [
        "j # j is left unchanged here as well"
      ],
      "outputs": [],
      "execution_count": null,
      "metadata": {}
    },
    {
      "cell_type": "code",
      "source": [
        "print(k)"
      ],
      "outputs": [],
      "execution_count": null,
      "metadata": {}
    },
    {
      "cell_type": "code",
      "source": [
        "print(k.T)  # the transpose of k"
      ],
      "outputs": [],
      "execution_count": null,
      "metadata": {}
    },
    {
      "cell_type": "code",
      "source": [
        "print(k) # calling k.T does not modify the original k array"
      ],
      "outputs": [],
      "execution_count": null,
      "metadata": {}
    },
    {
      "cell_type": "code",
      "source": [
        "# can combine the above methods and steps into one:\n",
        "l = np.arange(0,12,1).reshape([3,4]).T\n",
        "# create a-range >> reshape >> transpose\n",
        "print(l)"
      ],
      "outputs": [],
      "execution_count": null,
      "metadata": {}
    },
    {
      "cell_type": "code",
      "source": [
        "y = np.arange(0,12, 1)\n",
        "print(y)"
      ],
      "outputs": [],
      "execution_count": null,
      "metadata": {}
    },
    {
      "cell_type": "code",
      "source": [
        "y.shape"
      ],
      "outputs": [],
      "execution_count": null,
      "metadata": {}
    },
    {
      "cell_type": "code",
      "source": [
        "print(y.T) # the transpose of a one dimensional array doesn't suddenly give it a second dimension"
      ],
      "outputs": [],
      "execution_count": null,
      "metadata": {}
    },
    {
      "cell_type": "code",
      "source": [
        "y.T.shape"
      ],
      "outputs": [],
      "execution_count": null,
      "metadata": {}
    },
    {
      "cell_type": "code",
      "source": [
        "z = np.reshape(y, [1,12]) # the array now has two dimensions\n",
        "print(z)"
      ],
      "outputs": [],
      "execution_count": null,
      "metadata": {}
    },
    {
      "cell_type": "code",
      "source": [
        "z.shape"
      ],
      "outputs": [],
      "execution_count": null,
      "metadata": {}
    },
    {
      "cell_type": "code",
      "source": [
        "print(z.T)  # with two dimensions, the transpose become a column"
      ],
      "outputs": [],
      "execution_count": null,
      "metadata": {}
    },
    {
      "cell_type": "code",
      "source": [
        "z.T.shape"
      ],
      "outputs": [],
      "execution_count": null,
      "metadata": {}
    },
    {
      "cell_type": "markdown",
      "source": [
        "# Subsetting and Slicing Arrays\n",
        "- very similar to subsetting and slicing lists"
      ],
      "metadata": {}
    },
    {
      "cell_type": "code",
      "source": [
        "y = np.arange(0,12, 1)\n",
        "print(y)"
      ],
      "outputs": [],
      "execution_count": null,
      "metadata": {}
    },
    {
      "cell_type": "code",
      "source": [
        "y[4]"
      ],
      "outputs": [],
      "execution_count": null,
      "metadata": {}
    },
    {
      "cell_type": "code",
      "source": [
        "y.shape"
      ],
      "outputs": [],
      "execution_count": null,
      "metadata": {}
    },
    {
      "cell_type": "code",
      "source": [
        "y[4:6]"
      ],
      "outputs": [],
      "execution_count": null,
      "metadata": {}
    },
    {
      "cell_type": "markdown",
      "source": [
        "you can slice with a second colon. The array gets subset with `array[start:stop:step]`"
      ],
      "metadata": {}
    },
    {
      "cell_type": "code",
      "source": [
        "y[1:8:3]"
      ],
      "outputs": [],
      "execution_count": null,
      "metadata": {}
    },
    {
      "cell_type": "code",
      "source": [
        "np.arange(100)[:100:2] # shortcut to get even values"
      ],
      "outputs": [],
      "execution_count": null,
      "metadata": {}
    },
    {
      "cell_type": "markdown",
      "source": [
        "Subsetting and slicing higher dimensional arrays is similar, and uses a comma to separate subsetting instructions for each dimension."
      ],
      "metadata": {}
    },
    {
      "cell_type": "code",
      "source": [
        "z = np.reshape(y, [3,4])\n",
        "print(z)"
      ],
      "outputs": [],
      "execution_count": null,
      "metadata": {}
    },
    {
      "cell_type": "code",
      "source": [
        "print(z[1,2]) # returns what is at row index 1, col index 2"
      ],
      "outputs": [],
      "execution_count": null,
      "metadata": {}
    },
    {
      "cell_type": "code",
      "source": [
        "type(z[1,2]) # with only one value, the type is the integer. It is no longer an array."
      ],
      "outputs": [],
      "execution_count": null,
      "metadata": {}
    },
    {
      "cell_type": "code",
      "source": [
        "z[0:2, 0:2]"
      ],
      "outputs": [],
      "execution_count": null,
      "metadata": {}
    },
    {
      "cell_type": "code",
      "source": [
        "type(z[0:2, 0:2])  # the type remains a numpy array"
      ],
      "outputs": [],
      "execution_count": null,
      "metadata": {}
    },
    {
      "cell_type": "code",
      "source": [
        "print(z[2, :]) # returns row at index 2"
      ],
      "outputs": [],
      "execution_count": null,
      "metadata": {}
    },
    {
      "cell_type": "code",
      "source": [
        "z[2, :].shape  # the shape is one dimensional"
      ],
      "outputs": [],
      "execution_count": null,
      "metadata": {}
    },
    {
      "cell_type": "code",
      "source": [
        "print(z[:,2]) # returns column at index 2"
      ],
      "outputs": [],
      "execution_count": null,
      "metadata": {}
    },
    {
      "cell_type": "code",
      "source": [
        "z[:,2].shape # shape is one dimensional"
      ],
      "outputs": [],
      "execution_count": null,
      "metadata": {}
    },
    {
      "cell_type": "markdown",
      "source": [
        "## Slices of numpy arrays are views, and automatically update if the original array is updated.\n",
        "\n",
        "Similar to dictionary views"
      ],
      "metadata": {}
    },
    {
      "cell_type": "code",
      "source": [
        "z = np.arange(12).reshape([3,4])\n",
        "print(z)"
      ],
      "outputs": [],
      "execution_count": null,
      "metadata": {}
    },
    {
      "cell_type": "code",
      "source": [
        "# we use numpy array slicing to create z_sub, the top left corner of z\n",
        "z_sub = z[:2, :2]\n",
        "print(z_sub)"
      ],
      "outputs": [],
      "execution_count": null,
      "metadata": {}
    },
    {
      "cell_type": "code",
      "source": [
        "# I modify the first element of z to be 99.\n",
        "z[0,0] = 99"
      ],
      "outputs": [],
      "execution_count": null,
      "metadata": {}
    },
    {
      "cell_type": "code",
      "source": [
        "print(z_sub)  # z_sub is updated, even though we never redefined it"
      ],
      "outputs": [],
      "execution_count": null,
      "metadata": {}
    },
    {
      "cell_type": "code",
      "source": [
        "z"
      ],
      "outputs": [],
      "execution_count": null,
      "metadata": {}
    },
    {
      "cell_type": "code",
      "source": [
        "z = np.arange(15).reshape([3,5]) # here z gets redefined to an entirely new object\n",
        "# we are not modifying the object that used to be called z\n",
        "# we created a new object, and the name z now points to the new object"
      ],
      "outputs": [],
      "execution_count": null,
      "metadata": {}
    },
    {
      "cell_type": "code",
      "source": [
        "print(z_sub)  # the view z_sub still points to the object formerly known as z, which was not modified "
      ],
      "outputs": [],
      "execution_count": null,
      "metadata": {}
    },
    {
      "cell_type": "markdown",
      "source": [
        "## If you want a copy that will not update if the original is updated, use `array.copy()`"
      ],
      "metadata": {}
    },
    {
      "cell_type": "code",
      "source": [
        "print(z)"
      ],
      "outputs": [],
      "execution_count": null,
      "metadata": {}
    },
    {
      "cell_type": "code",
      "source": [
        "z_sub_copy = z[:2, :2].copy()\n",
        "print(z_sub_copy)"
      ],
      "outputs": [],
      "execution_count": null,
      "metadata": {}
    },
    {
      "cell_type": "code",
      "source": [
        "z[0,0] = 55 # modify the first element of z"
      ],
      "outputs": [],
      "execution_count": null,
      "metadata": {}
    },
    {
      "cell_type": "code",
      "source": [
        "print(z_sub_copy) # the copy remains unaffected by the change"
      ],
      "outputs": [],
      "execution_count": null,
      "metadata": {}
    },
    {
      "cell_type": "code",
      "source": [
        "print(z)"
      ],
      "outputs": [],
      "execution_count": null,
      "metadata": {}
    }
  ],
  "metadata": {
    "kernelspec": {
      "name": "python3",
      "language": "python",
      "display_name": "Python 3"
    },
    "language_info": {
      "name": "python",
      "version": "3.7.3",
      "mimetype": "text/x-python",
      "codemirror_mode": {
        "name": "ipython",
        "version": 3
      },
      "pygments_lexer": "ipython3",
      "nbconvert_exporter": "python",
      "file_extension": ".py"
    },
    "kernel_info": {
      "name": "python3"
    },
    "nteract": {
      "version": "0.15.0"
    }
  },
  "nbformat": 4,
  "nbformat_minor": 2
}