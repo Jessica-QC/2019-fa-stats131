{
  "cells": [
    {
      "cell_type": "markdown",
      "source": [
        "# Lists continued"
      ],
      "metadata": {}
    },
    {
      "cell_type": "markdown",
      "source": [
        "## List methods covered in last class:\n",
        "- `list.copy()`\n",
        "    - Return a shallow copy of the list. Equivalent to a[:]\n",
        "- `list.append(x)`\n",
        "    - Add an item to the end of the list. Equivalent to a[len(a):] = [x].\n",
        "- `list.insert(i, x)`\n",
        "    - Insert an item at a given position. The first argument is the index of the element before which to insert, so a.insert(0, x) inserts at the front of the list, and a.insert(len(a), x) is equivalent to a.append(x).\n",
        "- `list.extend(iterable)`\n",
        "    - Extend the list by appending all the items from the iterable. Equivalent to a[len(a):] = iterable."
      ],
      "metadata": {}
    },
    {
      "cell_type": "markdown",
      "source": [
        "## To be covered today"
      ],
      "metadata": {}
    },
    {
      "cell_type": "markdown",
      "source": [
        "- `list.remove(x)`\n",
        "    - Remove the first item from the list whose value is x. It is an error if there is no such item.\n",
        "\n",
        "- `list.pop([i])`\n",
        "    - Remove the item at the given position in the list, and return it. If no index is specified, a.pop() removes and returns the last item in the list.\n",
        "\n",
        "- `list.clear()`\n",
        "    - Remove all items from the list. Equivalent to del a[:].\n"
      ],
      "metadata": {}
    },
    {
      "cell_type": "code",
      "source": [
        "fam = [\"liz\", 1.73, \"emma\", 1.68, \"mom\", 1.71, \"dad\", 1.89]\n",
        "fam.remove(\"emma\")\n",
        "print(fam)"
      ],
      "outputs": [
        {
          "output_type": "stream",
          "name": "stdout",
          "text": [
            "['liz', 1.73, 1.68, 'mom', 1.71, 'dad', 1.89]\n"
          ]
        }
      ],
      "execution_count": 1,
      "metadata": {}
    },
    {
      "cell_type": "code",
      "source": [
        "s = [0,'a',2,'a',4]\n",
        "s.remove('a') # only removes the first element that matches\n",
        "print(s)"
      ],
      "outputs": [
        {
          "output_type": "stream",
          "name": "stdout",
          "text": [
            "[0, 2, 'a', 4]\n"
          ]
        }
      ],
      "execution_count": 2,
      "metadata": {}
    },
    {
      "cell_type": "code",
      "source": [
        "s.remove('b') # asking to remove something that doesn't exist returns an error"
      ],
      "outputs": [
        {
          "output_type": "error",
          "ename": "ValueError",
          "evalue": "list.remove(x): x not in list",
          "traceback": [
            "\u001b[1;31m---------------------------------------------------------------------------\u001b[0m",
            "\u001b[1;31mValueError\u001b[0m                                Traceback (most recent call last)",
            "\u001b[1;32m<ipython-input-3-c74f7f0e2cc9>\u001b[0m in \u001b[0;36m<module>\u001b[1;34m\u001b[0m\n\u001b[1;32m----> 1\u001b[1;33m \u001b[0ms\u001b[0m\u001b[1;33m.\u001b[0m\u001b[0mremove\u001b[0m\u001b[1;33m(\u001b[0m\u001b[1;34m'b'\u001b[0m\u001b[1;33m)\u001b[0m \u001b[1;31m# asking to remove something that doesn't exist returns an error\u001b[0m\u001b[1;33m\u001b[0m\u001b[1;33m\u001b[0m\u001b[0m\n\u001b[0m",
            "\u001b[1;31mValueError\u001b[0m: list.remove(x): x not in list"
          ]
        }
      ],
      "execution_count": 3,
      "metadata": {
        "tags": [
          "raises-exception"
        ]
      }
    },
    {
      "cell_type": "code",
      "source": [
        "s"
      ],
      "outputs": [
        {
          "output_type": "execute_result",
          "execution_count": 4,
          "data": {
            "text/plain": [
              "[0, 2, 'a', 4]"
            ]
          },
          "metadata": {}
        }
      ],
      "execution_count": 4,
      "metadata": {}
    },
    {
      "cell_type": "code",
      "source": [
        "s.remove(s[3]) # removing the object at index = 3"
      ],
      "outputs": [],
      "execution_count": 5,
      "metadata": {}
    },
    {
      "cell_type": "code",
      "source": [
        "s"
      ],
      "outputs": [
        {
          "output_type": "execute_result",
          "execution_count": 6,
          "data": {
            "text/plain": [
              "[0, 2, 'a']"
            ]
          },
          "metadata": {}
        }
      ],
      "execution_count": 6,
      "metadata": {}
    },
    {
      "cell_type": "code",
      "source": [
        "fam = [\"liz\", 1.73, \"emma\", 1.68, \"mom\", 1.71, \"dad\", 1.89]\n",
        "j = fam.pop()  # if you don't specify an index, it pops the last item in the list\n",
        "# default behavior of pop() without any arguments is like a stack. last in first out\n",
        "print(j)\n",
        "print(fam)"
      ],
      "outputs": [
        {
          "output_type": "stream",
          "name": "stdout",
          "text": [
            "1.89\n",
            "['liz', 1.73, 'emma', 1.68, 'mom', 1.71, 'dad']\n"
          ]
        }
      ],
      "execution_count": 7,
      "metadata": {}
    },
    {
      "cell_type": "code",
      "source": [
        "fam = [\"liz\", 1.73, \"emma\", 1.68, \"mom\", 1.71, \"dad\", 1.89]\n",
        "j = fam.pop(0)  # you can also specify an index.\n",
        "# Using index 0 makes pop behave like a queue. first in first out\n",
        "print(j)\n",
        "print(fam)"
      ],
      "outputs": [
        {
          "output_type": "stream",
          "name": "stdout",
          "text": [
            "liz\n",
            "[1.73, 'emma', 1.68, 'mom', 1.71, 'dad', 1.89]\n"
          ]
        }
      ],
      "execution_count": 8,
      "metadata": {}
    },
    {
      "cell_type": "code",
      "source": [
        "fam.clear()  # clears the entire list\n",
        "print(fam)"
      ],
      "outputs": [
        {
          "output_type": "stream",
          "name": "stdout",
          "text": [
            "[]\n"
          ]
        }
      ],
      "execution_count": 9,
      "metadata": {}
    },
    {
      "cell_type": "markdown",
      "source": [
        "\n",
        "- `list.index(x)`\n",
        "    - Return zero-based index in the list of the first item whose value is x. Raises a ValueError if there is no such item.\n",
        "- `list.count(x)`\n",
        "    - Return the number of times x appears in the list."
      ],
      "metadata": {}
    },
    {
      "cell_type": "code",
      "source": [
        "fam = [\"liz\", 1.73, \"emma\", 1.68, \"mom\", 1.71, \"dad\", 1.89]\n",
        "fam.index(\"emma\")"
      ],
      "outputs": [
        {
          "output_type": "execute_result",
          "execution_count": 10,
          "data": {
            "text/plain": [
              "2"
            ]
          },
          "metadata": {}
        }
      ],
      "execution_count": 10,
      "metadata": {}
    },
    {
      "cell_type": "code",
      "source": [
        "letters = [\"a\", \"b\", \"c\", \"a\", \"a\"]\n",
        "print(letters.count(\"a\"))"
      ],
      "outputs": [
        {
          "output_type": "stream",
          "name": "stdout",
          "text": [
            "3\n"
          ]
        }
      ],
      "execution_count": 11,
      "metadata": {}
    },
    {
      "cell_type": "code",
      "source": [
        "fam2 = [[\"liz\", 1.73],\n",
        "[\"emma\", 1.68],\n",
        "[\"mom\", 1.71],\n",
        "[\"dad\", 1.89]]\n",
        "print(fam2.count(\"emma\"))  # the string by itself does not exist\n",
        "print(fam2.count([\"emma\", 1.68]))"
      ],
      "outputs": [
        {
          "output_type": "stream",
          "name": "stdout",
          "text": [
            "0\n",
            "1\n"
          ]
        }
      ],
      "execution_count": 12,
      "metadata": {}
    },
    {
      "cell_type": "markdown",
      "source": [
        "- `list.sort(key=None, reverse=False)`\n",
        "    - Sort the items of the list in place (the arguments can be used for sort customization, see sorted() for their explanation).\n",
        "\n",
        "- `list.reverse()`\n",
        "    - Reverse the elements of the list in place."
      ],
      "metadata": {}
    },
    {
      "cell_type": "code",
      "source": [
        "print(fam)"
      ],
      "outputs": [
        {
          "output_type": "stream",
          "name": "stdout",
          "text": [
            "['liz', 1.73, 'emma', 1.68, 'mom', 1.71, 'dad', 1.89]\n"
          ]
        }
      ],
      "execution_count": 13,
      "metadata": {}
    },
    {
      "cell_type": "code",
      "source": [
        "fam.reverse()  # no output to 'capture', the list is changed in place"
      ],
      "outputs": [],
      "execution_count": 14,
      "metadata": {}
    },
    {
      "cell_type": "code",
      "source": [
        "print(fam)"
      ],
      "outputs": [
        {
          "output_type": "stream",
          "name": "stdout",
          "text": [
            "[1.89, 'dad', 1.71, 'mom', 1.68, 'emma', 1.73, 'liz']\n"
          ]
        }
      ],
      "execution_count": 15,
      "metadata": {}
    },
    {
      "cell_type": "code",
      "source": [
        "fam.sort()  # can't sort floats and string"
      ],
      "outputs": [
        {
          "output_type": "error",
          "ename": "TypeError",
          "evalue": "'<' not supported between instances of 'str' and 'float'",
          "traceback": [
            "\u001b[1;31m---------------------------------------------------------------------------\u001b[0m",
            "\u001b[1;31mTypeError\u001b[0m                                 Traceback (most recent call last)",
            "\u001b[1;32m<ipython-input-16-b0f2370e264b>\u001b[0m in \u001b[0;36m<module>\u001b[1;34m\u001b[0m\n\u001b[1;32m----> 1\u001b[1;33m \u001b[0mfam\u001b[0m\u001b[1;33m.\u001b[0m\u001b[0msort\u001b[0m\u001b[1;33m(\u001b[0m\u001b[1;33m)\u001b[0m  \u001b[1;31m# can't sort floats and string\u001b[0m\u001b[1;33m\u001b[0m\u001b[1;33m\u001b[0m\u001b[0m\n\u001b[0m",
            "\u001b[1;31mTypeError\u001b[0m: '<' not supported between instances of 'str' and 'float'"
          ]
        }
      ],
      "execution_count": 16,
      "metadata": {
        "tags": [
          "raises-exception"
        ]
      }
    },
    {
      "cell_type": "code",
      "source": [
        "some_digits = [4,2,7,9,2,5.1,3]\n",
        "some_digits.sort()  # the list is sorted in place. no need to resave the output"
      ],
      "outputs": [],
      "execution_count": 17,
      "metadata": {}
    },
    {
      "cell_type": "code",
      "source": [
        "print(some_digits)  # preserves numeric data types"
      ],
      "outputs": [
        {
          "output_type": "stream",
          "name": "stdout",
          "text": [
            "[2, 2, 3, 4, 5.1, 7, 9]\n"
          ]
        }
      ],
      "execution_count": 18,
      "metadata": {}
    },
    {
      "cell_type": "code",
      "source": [
        "type(some_digits[4])"
      ],
      "outputs": [
        {
          "output_type": "execute_result",
          "execution_count": 19,
          "data": {
            "text/plain": [
              "float"
            ]
          },
          "metadata": {}
        }
      ],
      "execution_count": 19,
      "metadata": {}
    },
    {
      "cell_type": "code",
      "source": [
        "some_digits.sort(reverse = True)\n",
        "print(some_digits)"
      ],
      "outputs": [
        {
          "output_type": "stream",
          "name": "stdout",
          "text": [
            "[9, 7, 5.1, 4, 3, 2, 2]\n"
          ]
        }
      ],
      "execution_count": 20,
      "metadata": {}
    },
    {
      "cell_type": "code",
      "source": [
        "some_digits = [4,2,7,9,2,5.1,3]\n",
        "sorted(some_digits)  # sorted will return a sorted copy of the list"
      ],
      "outputs": [
        {
          "output_type": "execute_result",
          "execution_count": 21,
          "data": {
            "text/plain": [
              "[2, 2, 3, 4, 5.1, 7, 9]"
            ]
          },
          "metadata": {}
        }
      ],
      "execution_count": 21,
      "metadata": {}
    },
    {
      "cell_type": "code",
      "source": [
        "some_digits  # the list is unaffected"
      ],
      "outputs": [
        {
          "output_type": "execute_result",
          "execution_count": 22,
          "data": {
            "text/plain": [
              "[4, 2, 7, 9, 2, 5.1, 3]"
            ]
          },
          "metadata": {}
        }
      ],
      "execution_count": 22,
      "metadata": {}
    },
    {
      "cell_type": "markdown",
      "source": [
        "# Tuples\n",
        "\n",
        "Tuples are like lists in that they can contain objects of different types.\n",
        "\n",
        "They are different from lists in that they are **immutable**.\n",
        "\n",
        "Tuples are created using curved brackets (parenthesis) `()`. They are also created by default if you write values separated by commas without any type of bracket.\n",
        "\n",
        "tuples only support two methods: `tuple.index()` and `tuple.count()` which return information about contents of the tuple but do not modify them"
      ],
      "metadata": {}
    },
    {
      "cell_type": "code",
      "source": [
        "t = (0,'apple',2,'cat','dog',5,6)"
      ],
      "outputs": [],
      "execution_count": 23,
      "metadata": {}
    },
    {
      "cell_type": "code",
      "source": [
        "# the usual indexing options apply\n",
        "t[1]"
      ],
      "outputs": [
        {
          "output_type": "execute_result",
          "execution_count": 24,
          "data": {
            "text/plain": [
              "'apple'"
            ]
          },
          "metadata": {}
        }
      ],
      "execution_count": 24,
      "metadata": {}
    },
    {
      "cell_type": "code",
      "source": [
        "t[2:5]"
      ],
      "outputs": [
        {
          "output_type": "execute_result",
          "execution_count": 25,
          "data": {
            "text/plain": [
              "(2, 'cat', 'dog')"
            ]
          },
          "metadata": {}
        }
      ],
      "execution_count": 25,
      "metadata": {}
    },
    {
      "cell_type": "code",
      "source": [
        "t.index('dog')"
      ],
      "outputs": [
        {
          "output_type": "execute_result",
          "execution_count": 26,
          "data": {
            "text/plain": [
              "4"
            ]
          },
          "metadata": {}
        }
      ],
      "execution_count": 26,
      "metadata": {}
    },
    {
      "cell_type": "code",
      "source": [
        "t.count(5)"
      ],
      "outputs": [
        {
          "output_type": "execute_result",
          "execution_count": 27,
          "data": {
            "text/plain": [
              "1"
            ]
          },
          "metadata": {}
        }
      ],
      "execution_count": 27,
      "metadata": {}
    },
    {
      "cell_type": "markdown",
      "source": [
        "## mutable vs immutable\n",
        "\n",
        "Lists are mutable, meaning they can be modified.\n",
        "\n",
        "Tuples are immutable. They cannot be modified."
      ],
      "metadata": {}
    },
    {
      "cell_type": "code",
      "source": [
        "t = (0,'apple',2,'cat','dog',5,6) # tuple\n",
        "l = [0,'apple',2,'cat','dog',5,6] # list"
      ],
      "outputs": [],
      "execution_count": 28,
      "metadata": {}
    },
    {
      "cell_type": "code",
      "source": [
        "l[0] = 100  # we can change the value of the object at index 0\n",
        "print(l)"
      ],
      "outputs": [
        {
          "output_type": "stream",
          "name": "stdout",
          "text": [
            "[100, 'apple', 2, 'cat', 'dog', 5, 6]\n"
          ]
        }
      ],
      "execution_count": 29,
      "metadata": {}
    },
    {
      "cell_type": "code",
      "source": [
        "t[0] = 100  # trying to modify the value in a tuple is not allowed"
      ],
      "outputs": [
        {
          "output_type": "error",
          "ename": "TypeError",
          "evalue": "'tuple' object does not support item assignment",
          "traceback": [
            "\u001b[1;31m---------------------------------------------------------------------------\u001b[0m",
            "\u001b[1;31mTypeError\u001b[0m                                 Traceback (most recent call last)",
            "\u001b[1;32m<ipython-input-30-1315e91aabf3>\u001b[0m in \u001b[0;36m<module>\u001b[1;34m\u001b[0m\n\u001b[1;32m----> 1\u001b[1;33m \u001b[0mt\u001b[0m\u001b[1;33m[\u001b[0m\u001b[1;36m0\u001b[0m\u001b[1;33m]\u001b[0m \u001b[1;33m=\u001b[0m \u001b[1;36m100\u001b[0m  \u001b[1;31m# trying to modify the value in a tuple is not allowed\u001b[0m\u001b[1;33m\u001b[0m\u001b[1;33m\u001b[0m\u001b[0m\n\u001b[0m",
            "\u001b[1;31mTypeError\u001b[0m: 'tuple' object does not support item assignment"
          ]
        }
      ],
      "execution_count": 30,
      "metadata": {
        "tags": [
          "raises-exception"
        ]
      }
    },
    {
      "cell_type": "code",
      "source": [
        "t.append('x')  # methods that modify lists in place (e.g. append, insert, pop, etc) do not work for tuples"
      ],
      "outputs": [
        {
          "output_type": "error",
          "ename": "AttributeError",
          "evalue": "'tuple' object has no attribute 'append'",
          "traceback": [
            "\u001b[1;31m---------------------------------------------------------------------------\u001b[0m",
            "\u001b[1;31mAttributeError\u001b[0m                            Traceback (most recent call last)",
            "\u001b[1;32m<ipython-input-31-9f306c823bbe>\u001b[0m in \u001b[0;36m<module>\u001b[1;34m\u001b[0m\n\u001b[1;32m----> 1\u001b[1;33m \u001b[0mt\u001b[0m\u001b[1;33m.\u001b[0m\u001b[0mappend\u001b[0m\u001b[1;33m(\u001b[0m\u001b[1;34m'x'\u001b[0m\u001b[1;33m)\u001b[0m  \u001b[1;31m# methods that modify lists in place (e.g. append, insert, pop, etc) do not work for tuples\u001b[0m\u001b[1;33m\u001b[0m\u001b[1;33m\u001b[0m\u001b[0m\n\u001b[0m",
            "\u001b[1;31mAttributeError\u001b[0m: 'tuple' object has no attribute 'append'"
          ]
        }
      ],
      "execution_count": 31,
      "metadata": {
        "tags": [
          "raises-exception"
        ]
      }
    },
    {
      "cell_type": "code",
      "source": [
        "l.append('x')\n",
        "print(l)"
      ],
      "outputs": [
        {
          "output_type": "stream",
          "name": "stdout",
          "text": [
            "[100, 'apple', 2, 'cat', 'dog', 5, 6, 'x']\n"
          ]
        }
      ],
      "execution_count": 32,
      "metadata": {}
    },
    {
      "cell_type": "code",
      "source": [
        "a = 1, 2, 3, 4\n",
        "print(a)  # tuple created by default\n",
        "print(type(a))"
      ],
      "outputs": [
        {
          "output_type": "stream",
          "name": "stdout",
          "text": [
            "(1, 2, 3, 4)\n",
            "<class 'tuple'>\n"
          ]
        }
      ],
      "execution_count": 33,
      "metadata": {}
    },
    {
      "cell_type": "markdown",
      "source": [
        "## Functions that support lists and tuples as inputs\n",
        "\n",
        "- `len()`\n",
        "- `sum()`\n",
        "- `sorted()`\n",
        "- `min()`\n",
        "- `max()`\n",
        "\n",
        "None of these functions affect the list or tuple itself."
      ],
      "metadata": {}
    },
    {
      "cell_type": "code",
      "source": [
        "some_digits = (4,2,7,9,2,5,3)  # a tuple of numbers\n",
        "some_words = ['dog','apple','cat','hat','hand']  # this is a list"
      ],
      "outputs": [],
      "execution_count": 34,
      "metadata": {}
    },
    {
      "cell_type": "code",
      "source": [
        "len(some_digits)"
      ],
      "outputs": [
        {
          "output_type": "execute_result",
          "execution_count": 35,
          "data": {
            "text/plain": [
              "7"
            ]
          },
          "metadata": {}
        }
      ],
      "execution_count": 35,
      "metadata": {}
    },
    {
      "cell_type": "code",
      "source": [
        "sum(some_digits)"
      ],
      "outputs": [
        {
          "output_type": "execute_result",
          "execution_count": 36,
          "data": {
            "text/plain": [
              "32"
            ]
          },
          "metadata": {}
        }
      ],
      "execution_count": 36,
      "metadata": {}
    },
    {
      "cell_type": "code",
      "source": [
        "sum(some_words) # won't work on strings"
      ],
      "outputs": [
        {
          "output_type": "error",
          "ename": "TypeError",
          "evalue": "unsupported operand type(s) for +: 'int' and 'str'",
          "traceback": [
            "\u001b[1;31m---------------------------------------------------------------------------\u001b[0m",
            "\u001b[1;31mTypeError\u001b[0m                                 Traceback (most recent call last)",
            "\u001b[1;32m<ipython-input-37-7ad2d781cfbf>\u001b[0m in \u001b[0;36m<module>\u001b[1;34m\u001b[0m\n\u001b[1;32m----> 1\u001b[1;33m \u001b[0msum\u001b[0m\u001b[1;33m(\u001b[0m\u001b[0msome_words\u001b[0m\u001b[1;33m)\u001b[0m \u001b[1;31m# won't work on strings\u001b[0m\u001b[1;33m\u001b[0m\u001b[1;33m\u001b[0m\u001b[0m\n\u001b[0m",
            "\u001b[1;31mTypeError\u001b[0m: unsupported operand type(s) for +: 'int' and 'str'"
          ]
        }
      ],
      "execution_count": 37,
      "metadata": {
        "tags": [
          "raises-exception"
        ]
      }
    },
    {
      "cell_type": "code",
      "source": [
        "sorted(some_digits)  # sorts the tuple, but does not affect the list or tuple itself.\n",
        "# contrast to list.sort() which will sort the list in place\n",
        "# but the object returned is a list"
      ],
      "outputs": [
        {
          "output_type": "execute_result",
          "execution_count": 38,
          "data": {
            "text/plain": [
              "[2, 2, 3, 4, 5, 7, 9]"
            ]
          },
          "metadata": {}
        }
      ],
      "execution_count": 38,
      "metadata": {}
    },
    {
      "cell_type": "code",
      "source": [
        "print(some_digits)  # just to show the list is unchanged"
      ],
      "outputs": [
        {
          "output_type": "stream",
          "name": "stdout",
          "text": [
            "(4, 2, 7, 9, 2, 5, 3)\n"
          ]
        }
      ],
      "execution_count": 39,
      "metadata": {}
    },
    {
      "cell_type": "code",
      "source": [
        "sorted(some_words) # when applied to a list of strings, it will alphabetize them"
      ],
      "outputs": [
        {
          "output_type": "execute_result",
          "execution_count": 40,
          "data": {
            "text/plain": [
              "['apple', 'cat', 'dog', 'hand', 'hat']"
            ]
          },
          "metadata": {}
        }
      ],
      "execution_count": 40,
      "metadata": {}
    },
    {
      "cell_type": "code",
      "source": [
        "min(some_digits)"
      ],
      "outputs": [
        {
          "output_type": "execute_result",
          "execution_count": 41,
          "data": {
            "text/plain": [
              "2"
            ]
          },
          "metadata": {}
        }
      ],
      "execution_count": 41,
      "metadata": {}
    },
    {
      "cell_type": "code",
      "source": [
        "max(some_words)  # max returns the last word if alphabetized,\n",
        "# min will return the first in an alphabetized list"
      ],
      "outputs": [
        {
          "output_type": "execute_result",
          "execution_count": 42,
          "data": {
            "text/plain": [
              "'hat'"
            ]
          },
          "metadata": {}
        }
      ],
      "execution_count": 42,
      "metadata": {}
    },
    {
      "cell_type": "markdown",
      "source": [
        "# Strings and String Methods\n",
        "\n",
        "strings are immutable. This means that when you use a method on a string, it does not modify the string itself and returns a new string object."
      ],
      "metadata": {}
    },
    {
      "cell_type": "code",
      "source": [
        "name = \"STATS 131 python and other technologies for data science\"\n",
        "print(name.upper())\n",
        "print(name.capitalize()) # first character is capitalized\n",
        "print(name.title())     # first character of each word is capitalized\n",
        "print(name.lower())\n",
        "print(name) # string itself is not modified"
      ],
      "outputs": [
        {
          "output_type": "stream",
          "name": "stdout",
          "text": [
            "STATS 131 PYTHON AND OTHER TECHNOLOGIES FOR DATA SCIENCE\n",
            "Stats 131 python and other technologies for data science\n",
            "Stats 131 Python And Other Technologies For Data Science\n",
            "stats 131 python and other technologies for data science\n",
            "STATS 131 python and other technologies for data science\n"
          ]
        }
      ],
      "execution_count": 43,
      "metadata": {}
    },
    {
      "cell_type": "code",
      "source": [
        "name.count(\"e\")"
      ],
      "outputs": [
        {
          "output_type": "execute_result",
          "execution_count": 44,
          "data": {
            "text/plain": [
              "5"
            ]
          },
          "metadata": {}
        }
      ],
      "execution_count": 44,
      "metadata": {}
    },
    {
      "cell_type": "code",
      "source": [
        "name.index('A') # index of the first instance"
      ],
      "outputs": [
        {
          "output_type": "execute_result",
          "execution_count": 45,
          "data": {
            "text/plain": [
              "2"
            ]
          },
          "metadata": {}
        }
      ],
      "execution_count": 45,
      "metadata": {}
    },
    {
      "cell_type": "code",
      "source": [
        "name.endswith(\"k\")"
      ],
      "outputs": [
        {
          "output_type": "execute_result",
          "execution_count": 46,
          "data": {
            "text/plain": [
              "False"
            ]
          },
          "metadata": {}
        }
      ],
      "execution_count": 46,
      "metadata": {}
    },
    {
      "cell_type": "code",
      "source": [
        "name.endswith(\"e\")"
      ],
      "outputs": [
        {
          "output_type": "execute_result",
          "execution_count": 47,
          "data": {
            "text/plain": [
              "True"
            ]
          },
          "metadata": {}
        }
      ],
      "execution_count": 47,
      "metadata": {}
    },
    {
      "cell_type": "code",
      "source": [
        "name.startswith(\"s\")  # case sensitive"
      ],
      "outputs": [
        {
          "output_type": "execute_result",
          "execution_count": 48,
          "data": {
            "text/plain": [
              "False"
            ]
          },
          "metadata": {}
        }
      ],
      "execution_count": 48,
      "metadata": {}
    },
    {
      "cell_type": "code",
      "source": [
        "name2 = '''   miles chen \n",
        "\n",
        "\n",
        "'''\n",
        "print(name2)"
      ],
      "outputs": [
        {
          "output_type": "stream",
          "name": "stdout",
          "text": [
            "   miles chen \n",
            "\n",
            "\n",
            "\n"
          ]
        }
      ],
      "execution_count": 49,
      "metadata": {}
    },
    {
      "cell_type": "code",
      "source": [
        "name2.strip()  # removes extra whitespace"
      ],
      "outputs": [
        {
          "output_type": "execute_result",
          "execution_count": 50,
          "data": {
            "text/plain": [
              "'miles chen'"
            ]
          },
          "metadata": {}
        }
      ],
      "execution_count": 50,
      "metadata": {}
    },
    {
      "cell_type": "code",
      "source": [
        "name2.split()"
      ],
      "outputs": [
        {
          "output_type": "execute_result",
          "execution_count": 51,
          "data": {
            "text/plain": [
              "['miles', 'chen']"
            ]
          },
          "metadata": {}
        }
      ],
      "execution_count": 51,
      "metadata": {}
    },
    {
      "cell_type": "code",
      "source": [
        "num_string = \"2,3,4,7,8\"\n",
        "print(num_string.split()) # defaults to splitting on space\n",
        "print(num_string.split(','))"
      ],
      "outputs": [
        {
          "output_type": "stream",
          "name": "stdout",
          "text": [
            "['2,3,4,7,8']\n",
            "['2', '3', '4', '7', '8']\n"
          ]
        }
      ],
      "execution_count": 52,
      "metadata": {}
    },
    {
      "cell_type": "code",
      "source": [
        "# list comprehension (covered later)\n",
        "[int(x) for x in num_string.split(',')]"
      ],
      "outputs": [
        {
          "output_type": "execute_result",
          "execution_count": 53,
          "data": {
            "text/plain": [
              "[2, 3, 4, 7, 8]"
            ]
          },
          "metadata": {}
        }
      ],
      "execution_count": 53,
      "metadata": {}
    },
    {
      "cell_type": "code",
      "source": [
        "# the list comprehension is a more concise version of the following code\n",
        "l = []\n",
        "for x in num_string.split(','):\n",
        "    l.append(int(x))\n",
        "l"
      ],
      "outputs": [
        {
          "output_type": "execute_result",
          "execution_count": 54,
          "data": {
            "text/plain": [
              "[2, 3, 4, 7, 8]"
            ]
          },
          "metadata": {}
        }
      ],
      "execution_count": 54,
      "metadata": {}
    },
    {
      "cell_type": "code",
      "source": [
        "print(name)\n",
        "print(name.isalpha()) # has spaces and digits, so it is not strictly alpha\n",
        "name3 = \"abbaAZ\"\n",
        "name3.isalpha()"
      ],
      "outputs": [
        {
          "output_type": "stream",
          "name": "stdout",
          "text": [
            "STATS 131 python and other technologies for data science\n",
            "False\n"
          ]
        },
        {
          "output_type": "execute_result",
          "execution_count": 55,
          "data": {
            "text/plain": [
              "True"
            ]
          },
          "metadata": {}
        }
      ],
      "execution_count": 55,
      "metadata": {}
    },
    {
      "cell_type": "code",
      "source": [
        "name4 = \"abbaAZ4\"\n",
        "name4.isalpha()"
      ],
      "outputs": [
        {
          "output_type": "execute_result",
          "execution_count": 56,
          "data": {
            "text/plain": [
              "False"
            ]
          },
          "metadata": {}
        }
      ],
      "execution_count": 56,
      "metadata": {}
    },
    {
      "cell_type": "code",
      "source": [
        "# strings can span multiple lines with triple quotes \n",
        "long_string = \"\"\"Lyrics to the song Hallelujah\n",
        "Well I've heard there was a secret chord\n",
        "That David played and it pleased the Lord\n",
        "But you don't really care for music, do you?\"\"\"\n",
        "shout = long_string.upper()\n",
        "print(shout)\n",
        "word_list = long_string.split() # separates at spaces\n",
        "print(word_list)"
      ],
      "outputs": [
        {
          "output_type": "stream",
          "name": "stdout",
          "text": [
            "LYRICS TO THE SONG HALLELUJAH\n",
            "WELL I'VE HEARD THERE WAS A SECRET CHORD\n",
            "THAT DAVID PLAYED AND IT PLEASED THE LORD\n",
            "BUT YOU DON'T REALLY CARE FOR MUSIC, DO YOU?\n",
            "['Lyrics', 'to', 'the', 'song', 'Hallelujah', 'Well', \"I've\", 'heard', 'there', 'was', 'a', 'secret', 'chord', 'That', 'David', 'played', 'and', 'it', 'pleased', 'the', 'Lord', 'But', 'you', \"don't\", 'really', 'care', 'for', 'music,', 'do', 'you?']\n"
          ]
        }
      ],
      "execution_count": 57,
      "metadata": {}
    },
    {
      "cell_type": "code",
      "source": [
        "long_string.splitlines() # separates at line ends\n",
        "# you'll notice that python defaults to using single quotes, but if the string contains an apostrophe,\n",
        "# it will use double quotes"
      ],
      "outputs": [
        {
          "output_type": "execute_result",
          "execution_count": 58,
          "data": {
            "text/plain": [
              "['Lyrics to the song Hallelujah',\n",
              " \"Well I've heard there was a secret chord\",\n",
              " 'That David played and it pleased the Lord',\n",
              " \"But you don't really care for music, do you?\"]"
            ]
          },
          "metadata": {}
        }
      ],
      "execution_count": 58,
      "metadata": {}
    },
    {
      "cell_type": "code",
      "source": [
        "long_string.count(\"e\")"
      ],
      "outputs": [
        {
          "output_type": "execute_result",
          "execution_count": 59,
          "data": {
            "text/plain": [
              "15"
            ]
          },
          "metadata": {}
        }
      ],
      "execution_count": 59,
      "metadata": {}
    },
    {
      "cell_type": "code",
      "source": [
        "long_string.find(\"t\") # index of the first instance of 't'"
      ],
      "outputs": [
        {
          "output_type": "execute_result",
          "execution_count": 60,
          "data": {
            "text/plain": [
              "7"
            ]
          },
          "metadata": {}
        }
      ],
      "execution_count": 60,
      "metadata": {}
    },
    {
      "cell_type": "code",
      "source": [
        "long_string.index('t') # string.index() and string.find() are similar."
      ],
      "outputs": [
        {
          "output_type": "execute_result",
          "execution_count": 61,
          "data": {
            "text/plain": [
              "7"
            ]
          },
          "metadata": {}
        }
      ],
      "execution_count": 61,
      "metadata": {}
    },
    {
      "cell_type": "code",
      "source": [
        "long_string.find('$') # string.find() returns a -1 if the character doesn't exist in the string"
      ],
      "outputs": [
        {
          "output_type": "execute_result",
          "execution_count": 62,
          "data": {
            "text/plain": [
              "-1"
            ]
          },
          "metadata": {}
        }
      ],
      "execution_count": 62,
      "metadata": {}
    },
    {
      "cell_type": "code",
      "source": [
        "long_string.index('$')  # string.index() returns error if the character doesn't exist in the string."
      ],
      "outputs": [
        {
          "output_type": "error",
          "ename": "ValueError",
          "evalue": "substring not found",
          "traceback": [
            "\u001b[1;31m---------------------------------------------------------------------------\u001b[0m",
            "\u001b[1;31mValueError\u001b[0m                                Traceback (most recent call last)",
            "\u001b[1;32m<ipython-input-63-5b5715be5537>\u001b[0m in \u001b[0;36m<module>\u001b[1;34m\u001b[0m\n\u001b[1;32m----> 1\u001b[1;33m \u001b[0mlong_string\u001b[0m\u001b[1;33m.\u001b[0m\u001b[0mindex\u001b[0m\u001b[1;33m(\u001b[0m\u001b[1;34m'$'\u001b[0m\u001b[1;33m)\u001b[0m  \u001b[1;31m# string.index() returns error if the character doesn't exist in the string.\u001b[0m\u001b[1;33m\u001b[0m\u001b[1;33m\u001b[0m\u001b[0m\n\u001b[0m",
            "\u001b[1;31mValueError\u001b[0m: substring not found"
          ]
        }
      ],
      "execution_count": 63,
      "metadata": {
        "tags": [
          "raises-exception"
        ]
      }
    },
    {
      "cell_type": "markdown",
      "source": [
        "## Subsetting Strings and strings as iterables\n",
        "\n",
        "You can subset and slice a string much like you would a list or tuple:"
      ],
      "metadata": {}
    },
    {
      "cell_type": "code",
      "source": [
        "s = 'abcdefghijklmnopqrstuvwxyz'\n",
        "s[0]"
      ],
      "outputs": [
        {
          "output_type": "execute_result",
          "execution_count": 64,
          "data": {
            "text/plain": [
              "'a'"
            ]
          },
          "metadata": {}
        }
      ],
      "execution_count": 64,
      "metadata": {}
    },
    {
      "cell_type": "code",
      "source": [
        "s[4:9]"
      ],
      "outputs": [
        {
          "output_type": "execute_result",
          "execution_count": 65,
          "data": {
            "text/plain": [
              "'efghi'"
            ]
          },
          "metadata": {}
        }
      ],
      "execution_count": 65,
      "metadata": {}
    },
    {
      "cell_type": "code",
      "source": [
        "s[-6:]"
      ],
      "outputs": [
        {
          "output_type": "execute_result",
          "execution_count": 66,
          "data": {
            "text/plain": [
              "'uvwxyz'"
            ]
          },
          "metadata": {}
        }
      ],
      "execution_count": 66,
      "metadata": {}
    },
    {
      "cell_type": "code",
      "source": [
        "for x in s[0:5]:\n",
        "    print(x + '!')"
      ],
      "outputs": [
        {
          "output_type": "stream",
          "name": "stdout",
          "text": [
            "a!\n",
            "b!\n",
            "c!\n",
            "d!\n",
            "e!\n"
          ]
        }
      ],
      "execution_count": 67,
      "metadata": {}
    },
    {
      "cell_type": "code",
      "source": [
        "# keep in mind strings are immutable\n",
        "s[0] = 'b'"
      ],
      "outputs": [
        {
          "output_type": "error",
          "ename": "TypeError",
          "evalue": "'str' object does not support item assignment",
          "traceback": [
            "\u001b[1;31m---------------------------------------------------------------------------\u001b[0m",
            "\u001b[1;31mTypeError\u001b[0m                                 Traceback (most recent call last)",
            "\u001b[1;32m<ipython-input-68-9c2d35a1f02c>\u001b[0m in \u001b[0;36m<module>\u001b[1;34m\u001b[0m\n\u001b[0;32m      1\u001b[0m \u001b[1;31m# keep in mind strings are immutable\u001b[0m\u001b[1;33m\u001b[0m\u001b[1;33m\u001b[0m\u001b[1;33m\u001b[0m\u001b[0m\n\u001b[1;32m----> 2\u001b[1;33m \u001b[0ms\u001b[0m\u001b[1;33m[\u001b[0m\u001b[1;36m0\u001b[0m\u001b[1;33m]\u001b[0m \u001b[1;33m=\u001b[0m \u001b[1;34m'b'\u001b[0m\u001b[1;33m\u001b[0m\u001b[1;33m\u001b[0m\u001b[0m\n\u001b[0m",
            "\u001b[1;31mTypeError\u001b[0m: 'str' object does not support item assignment"
          ]
        }
      ],
      "execution_count": 68,
      "metadata": {
        "tags": [
          "raises-exception"
        ]
      }
    },
    {
      "cell_type": "code",
      "source": [
        "'b' + s[1:] # if i wanted the string where the first letter is now b"
      ],
      "outputs": [
        {
          "output_type": "execute_result",
          "execution_count": 69,
          "data": {
            "text/plain": [
              "'bbcdefghijklmnopqrstuvwxyz'"
            ]
          },
          "metadata": {}
        }
      ],
      "execution_count": 69,
      "metadata": {}
    },
    {
      "cell_type": "markdown",
      "source": [
        "# Math operators and lists, tuples, strings\n",
        "\n",
        "multiplication generally duplicates\n",
        "\n",
        "addition generally appends\n",
        "\n",
        "behaviors across lists, tuples, and strings are similar"
      ],
      "metadata": {}
    },
    {
      "cell_type": "code",
      "source": [
        "L1 = ['a','b','c']\n",
        "L2 = ['d','e','f']"
      ],
      "outputs": [],
      "execution_count": 70,
      "metadata": {}
    },
    {
      "cell_type": "code",
      "source": [
        "L1 * 2 # multiplication extends duplicates "
      ],
      "outputs": [
        {
          "output_type": "execute_result",
          "execution_count": 71,
          "data": {
            "text/plain": [
              "['a', 'b', 'c', 'a', 'b', 'c']"
            ]
          },
          "metadata": {}
        }
      ],
      "execution_count": 71,
      "metadata": {}
    },
    {
      "cell_type": "code",
      "source": [
        "L1 + L2 # addition appends list objects"
      ],
      "outputs": [
        {
          "output_type": "execute_result",
          "execution_count": 72,
          "data": {
            "text/plain": [
              "['a', 'b', 'c', 'd', 'e', 'f']"
            ]
          },
          "metadata": {}
        }
      ],
      "execution_count": 72,
      "metadata": {}
    },
    {
      "cell_type": "code",
      "source": [
        "T1 = ('a','b','c')\n",
        "T2 = ('d','e','f')"
      ],
      "outputs": [],
      "execution_count": 73,
      "metadata": {}
    },
    {
      "cell_type": "code",
      "source": [
        "T1 * 2"
      ],
      "outputs": [
        {
          "output_type": "execute_result",
          "execution_count": 74,
          "data": {
            "text/plain": [
              "('a', 'b', 'c', 'a', 'b', 'c')"
            ]
          },
          "metadata": {}
        }
      ],
      "execution_count": 74,
      "metadata": {}
    },
    {
      "cell_type": "code",
      "source": [
        "T1 + T2"
      ],
      "outputs": [
        {
          "output_type": "execute_result",
          "execution_count": 75,
          "data": {
            "text/plain": [
              "('a', 'b', 'c', 'd', 'e', 'f')"
            ]
          },
          "metadata": {}
        }
      ],
      "execution_count": 75,
      "metadata": {}
    },
    {
      "cell_type": "code",
      "source": [
        "L1 + T2 # fails. you cannot add list and tuple"
      ],
      "outputs": [
        {
          "output_type": "error",
          "ename": "TypeError",
          "evalue": "can only concatenate list (not \"tuple\") to list",
          "traceback": [
            "\u001b[1;31m---------------------------------------------------------------------------\u001b[0m",
            "\u001b[1;31mTypeError\u001b[0m                                 Traceback (most recent call last)",
            "\u001b[1;32m<ipython-input-76-75bf80180df8>\u001b[0m in \u001b[0;36m<module>\u001b[1;34m\u001b[0m\n\u001b[1;32m----> 1\u001b[1;33m \u001b[0mL1\u001b[0m \u001b[1;33m+\u001b[0m \u001b[0mT2\u001b[0m \u001b[1;31m# fails. you cannot add list and tuple\u001b[0m\u001b[1;33m\u001b[0m\u001b[1;33m\u001b[0m\u001b[0m\n\u001b[0m",
            "\u001b[1;31mTypeError\u001b[0m: can only concatenate list (not \"tuple\") to list"
          ]
        }
      ],
      "execution_count": 76,
      "metadata": {
        "tags": [
          "raises-exception"
        ]
      }
    },
    {
      "cell_type": "code",
      "source": [
        "L1 + list(T2) # but you can easily convert a tuple to a list first"
      ],
      "outputs": [
        {
          "output_type": "execute_result",
          "execution_count": 77,
          "data": {
            "text/plain": [
              "['a', 'b', 'c', 'd', 'e', 'f']"
            ]
          },
          "metadata": {}
        }
      ],
      "execution_count": 77,
      "metadata": {}
    },
    {
      "cell_type": "code",
      "source": [
        "S1 = 'abc'\n",
        "S2 = 'def'"
      ],
      "outputs": [],
      "execution_count": 78,
      "metadata": {}
    },
    {
      "cell_type": "code",
      "source": [
        "S1 * 2"
      ],
      "outputs": [
        {
          "output_type": "execute_result",
          "execution_count": 79,
          "data": {
            "text/plain": [
              "'abcabc'"
            ]
          },
          "metadata": {}
        }
      ],
      "execution_count": 79,
      "metadata": {}
    },
    {
      "cell_type": "code",
      "source": [
        "S1 + S2"
      ],
      "outputs": [
        {
          "output_type": "execute_result",
          "execution_count": 80,
          "data": {
            "text/plain": [
              "'abcdef'"
            ]
          },
          "metadata": {}
        }
      ],
      "execution_count": 80,
      "metadata": {}
    },
    {
      "cell_type": "markdown",
      "source": [
        "# Booleans\n",
        "\n",
        "\n",
        "You can convert boolean values to other types. True becomes 1, False becomes 0."
      ],
      "metadata": {}
    },
    {
      "cell_type": "code",
      "source": [
        "True"
      ],
      "outputs": [
        {
          "output_type": "execute_result",
          "execution_count": 81,
          "data": {
            "text/plain": [
              "True"
            ]
          },
          "metadata": {}
        }
      ],
      "execution_count": 81,
      "metadata": {}
    },
    {
      "cell_type": "code",
      "source": [
        "int(True)"
      ],
      "outputs": [
        {
          "output_type": "execute_result",
          "execution_count": 82,
          "data": {
            "text/plain": [
              "1"
            ]
          },
          "metadata": {}
        }
      ],
      "execution_count": 82,
      "metadata": {}
    },
    {
      "cell_type": "code",
      "source": [
        "float(True)"
      ],
      "outputs": [
        {
          "output_type": "execute_result",
          "execution_count": 83,
          "data": {
            "text/plain": [
              "1.0"
            ]
          },
          "metadata": {}
        }
      ],
      "execution_count": 83,
      "metadata": {}
    },
    {
      "cell_type": "code",
      "source": [
        "str(True)"
      ],
      "outputs": [
        {
          "output_type": "execute_result",
          "execution_count": 84,
          "data": {
            "text/plain": [
              "'True'"
            ]
          },
          "metadata": {}
        }
      ],
      "execution_count": 84,
      "metadata": {}
    },
    {
      "cell_type": "code",
      "source": [
        "int(False)"
      ],
      "outputs": [
        {
          "output_type": "execute_result",
          "execution_count": 85,
          "data": {
            "text/plain": [
              "0"
            ]
          },
          "metadata": {}
        }
      ],
      "execution_count": 85,
      "metadata": {}
    },
    {
      "cell_type": "code",
      "source": [
        "float(False)"
      ],
      "outputs": [
        {
          "output_type": "execute_result",
          "execution_count": 86,
          "data": {
            "text/plain": [
              "0.0"
            ]
          },
          "metadata": {}
        }
      ],
      "execution_count": 86,
      "metadata": {}
    },
    {
      "cell_type": "code",
      "source": [
        "str(False)"
      ],
      "outputs": [
        {
          "output_type": "execute_result",
          "execution_count": 87,
          "data": {
            "text/plain": [
              "'False'"
            ]
          },
          "metadata": {}
        }
      ],
      "execution_count": 87,
      "metadata": {}
    },
    {
      "cell_type": "markdown",
      "source": [
        "## You can convert other data types to booleans.\n",
        "\n",
        "`bool()` called empty or on `None` will return `False` "
      ],
      "metadata": {}
    },
    {
      "cell_type": "code",
      "source": [
        "bool()"
      ],
      "outputs": [
        {
          "output_type": "execute_result",
          "execution_count": 88,
          "data": {
            "text/plain": [
              "False"
            ]
          },
          "metadata": {}
        }
      ],
      "execution_count": 88,
      "metadata": {}
    },
    {
      "cell_type": "code",
      "source": [
        "bool(None)"
      ],
      "outputs": [
        {
          "output_type": "execute_result",
          "execution_count": 89,
          "data": {
            "text/plain": [
              "False"
            ]
          },
          "metadata": {}
        }
      ],
      "execution_count": 89,
      "metadata": {}
    },
    {
      "cell_type": "markdown",
      "source": [
        "Only 0 for numeric data types become False, everything else becomes True"
      ],
      "metadata": {}
    },
    {
      "cell_type": "code",
      "source": [
        "bool(0)"
      ],
      "outputs": [
        {
          "output_type": "execute_result",
          "execution_count": 90,
          "data": {
            "text/plain": [
              "False"
            ]
          },
          "metadata": {}
        }
      ],
      "execution_count": 90,
      "metadata": {}
    },
    {
      "cell_type": "code",
      "source": [
        "bool(3) # any integer other than 0 becomes True"
      ],
      "outputs": [
        {
          "output_type": "execute_result",
          "execution_count": 91,
          "data": {
            "text/plain": [
              "True"
            ]
          },
          "metadata": {}
        }
      ],
      "execution_count": 91,
      "metadata": {}
    },
    {
      "cell_type": "code",
      "source": [
        "bool(0.0)"
      ],
      "outputs": [
        {
          "output_type": "execute_result",
          "execution_count": 92,
          "data": {
            "text/plain": [
              "False"
            ]
          },
          "metadata": {}
        }
      ],
      "execution_count": 92,
      "metadata": {}
    },
    {
      "cell_type": "code",
      "source": [
        "bool(-1.0) # any float that is not 0 also becomes True"
      ],
      "outputs": [
        {
          "output_type": "execute_result",
          "execution_count": 93,
          "data": {
            "text/plain": [
              "True"
            ]
          },
          "metadata": {}
        }
      ],
      "execution_count": 93,
      "metadata": {}
    },
    {
      "cell_type": "code",
      "source": [
        "x = float('nan')\n",
        "x"
      ],
      "outputs": [
        {
          "output_type": "execute_result",
          "execution_count": 94,
          "data": {
            "text/plain": [
              "nan"
            ]
          },
          "metadata": {}
        }
      ],
      "execution_count": 94,
      "metadata": {}
    },
    {
      "cell_type": "code",
      "source": [
        "bool(x)  # even nan will become True"
      ],
      "outputs": [
        {
          "output_type": "execute_result",
          "execution_count": 95,
          "data": {
            "text/plain": [
              "True"
            ]
          },
          "metadata": {}
        }
      ],
      "execution_count": 95,
      "metadata": {}
    },
    {
      "cell_type": "markdown",
      "source": [
        "Only empty strings become False, everything else becomes True"
      ],
      "metadata": {}
    },
    {
      "cell_type": "code",
      "source": [
        "bool('')"
      ],
      "outputs": [
        {
          "output_type": "execute_result",
          "execution_count": 96,
          "data": {
            "text/plain": [
              "False"
            ]
          },
          "metadata": {}
        }
      ],
      "execution_count": 96,
      "metadata": {}
    },
    {
      "cell_type": "code",
      "source": [
        "bool(' ')"
      ],
      "outputs": [
        {
          "output_type": "execute_result",
          "execution_count": 97,
          "data": {
            "text/plain": [
              "True"
            ]
          },
          "metadata": {}
        }
      ],
      "execution_count": 97,
      "metadata": {}
    },
    {
      "cell_type": "code",
      "source": [
        "bool('False')"
      ],
      "outputs": [
        {
          "output_type": "execute_result",
          "execution_count": 98,
          "data": {
            "text/plain": [
              "True"
            ]
          },
          "metadata": {}
        }
      ],
      "execution_count": 98,
      "metadata": {}
    },
    {
      "cell_type": "markdown",
      "source": [
        "bool() called on an empty list or tuple will return False. everything else will return True"
      ],
      "metadata": {}
    },
    {
      "cell_type": "code",
      "source": [
        "l = []\n",
        "bool(l)"
      ],
      "outputs": [
        {
          "output_type": "execute_result",
          "execution_count": 99,
          "data": {
            "text/plain": [
              "False"
            ]
          },
          "metadata": {}
        }
      ],
      "execution_count": 99,
      "metadata": {}
    },
    {
      "cell_type": "code",
      "source": [
        "l2 = [False] # l2 is a list that contains one object, false. bool sees a list that is not empty and returns True\n",
        "bool(l2)"
      ],
      "outputs": [
        {
          "output_type": "execute_result",
          "execution_count": 100,
          "data": {
            "text/plain": [
              "True"
            ]
          },
          "metadata": {}
        }
      ],
      "execution_count": 100,
      "metadata": {}
    },
    {
      "cell_type": "code",
      "source": [
        "l3 = [[]] # l3 is a list that contains another list that is empty. l3 itself is not empty."
      ],
      "outputs": [],
      "execution_count": 101,
      "metadata": {}
    },
    {
      "cell_type": "code",
      "source": [
        "bool(l3)"
      ],
      "outputs": [
        {
          "output_type": "execute_result",
          "execution_count": 102,
          "data": {
            "text/plain": [
              "True"
            ]
          },
          "metadata": {}
        }
      ],
      "execution_count": 102,
      "metadata": {}
    },
    {
      "cell_type": "code",
      "source": [
        "# of course the item in l2 is False\n",
        "l2[0]"
      ],
      "outputs": [
        {
          "output_type": "execute_result",
          "execution_count": 103,
          "data": {
            "text/plain": [
              "False"
            ]
          },
          "metadata": {}
        }
      ],
      "execution_count": 103,
      "metadata": {}
    },
    {
      "cell_type": "code",
      "source": [
        "bool(l2[0])"
      ],
      "outputs": [
        {
          "output_type": "execute_result",
          "execution_count": 104,
          "data": {
            "text/plain": [
              "False"
            ]
          },
          "metadata": {}
        }
      ],
      "execution_count": 104,
      "metadata": {}
    },
    {
      "cell_type": "markdown",
      "source": [
        "# Dictionaries\n",
        "\n",
        "dictionaries (dicts) are unordered mappings of keys to values. If you are coming from r, you can think of them as named vectors, except like lists, they can contain different types of data\n",
        "\n",
        "The *normal* way to create dictionaries are with curly braces `{}` and colons `:`"
      ],
      "metadata": {}
    },
    {
      "cell_type": "code",
      "source": [
        "people = {'adam':25 , 'bob': 19, 'carl': 30}"
      ],
      "outputs": [],
      "execution_count": null,
      "metadata": {}
    },
    {
      "cell_type": "code",
      "source": [
        "people"
      ],
      "outputs": [],
      "execution_count": null,
      "metadata": {}
    },
    {
      "cell_type": "markdown",
      "source": [
        "Dictionaries can also be created by calling dict after zipping two lists together:"
      ],
      "metadata": {}
    },
    {
      "cell_type": "code",
      "source": [
        "people2 = dict( zip( ['adam','bob','carl'] , [25, 19, 30] ) )"
      ],
      "outputs": [],
      "execution_count": null,
      "metadata": {}
    },
    {
      "cell_type": "code",
      "source": [
        " zip( ['adam','bob','carl'] , [25, 19, 30] )  # output of a zip function"
      ],
      "outputs": [],
      "execution_count": null,
      "metadata": {}
    },
    {
      "cell_type": "code",
      "source": [
        "people == people2"
      ],
      "outputs": [],
      "execution_count": null,
      "metadata": {}
    },
    {
      "cell_type": "markdown",
      "source": [
        "You can then access the value by using the key."
      ],
      "metadata": {}
    },
    {
      "cell_type": "code",
      "source": [
        "people['bob']"
      ],
      "outputs": [],
      "execution_count": null,
      "metadata": {}
    },
    {
      "cell_type": "code",
      "source": [
        "people.get('bob') # can also be done with method get()"
      ],
      "outputs": [],
      "execution_count": null,
      "metadata": {}
    },
    {
      "cell_type": "code",
      "source": [
        "people['joe']"
      ],
      "outputs": [],
      "execution_count": null,
      "metadata": {
        "tags": [
          "raises-exception"
        ]
      }
    },
    {
      "cell_type": "code",
      "source": [
        "print(people.get('joe') ) # if you use get() and it does not find, returns None"
      ],
      "outputs": [],
      "execution_count": null,
      "metadata": {}
    },
    {
      "cell_type": "code",
      "source": [
        "d = {2:[20, 4, 5], 1:10}  # keys can be numeric, values can also be lists"
      ],
      "outputs": [],
      "execution_count": null,
      "metadata": {}
    },
    {
      "cell_type": "code",
      "source": [
        "d[2]"
      ],
      "outputs": [],
      "execution_count": null,
      "metadata": {}
    },
    {
      "cell_type": "code",
      "source": [
        "d[1]"
      ],
      "outputs": [],
      "execution_count": null,
      "metadata": {}
    },
    {
      "cell_type": "markdown",
      "source": [
        "Dictionaries are inherrently unordered, so you cannot use numeric indexes. If you provide a number, that number needs be a key in the dictionary."
      ],
      "metadata": {}
    },
    {
      "cell_type": "code",
      "source": [
        "people[0]"
      ],
      "outputs": [],
      "execution_count": null,
      "metadata": {
        "tags": [
          "raises-exception"
        ]
      }
    },
    {
      "cell_type": "markdown",
      "source": [
        "You can use key mapping to create new entries in the dictionary too.\n",
        "You can also use it to modify the value associated with a key."
      ],
      "metadata": {}
    },
    {
      "cell_type": "code",
      "source": [
        "people"
      ],
      "outputs": [],
      "execution_count": null,
      "metadata": {}
    },
    {
      "cell_type": "code",
      "source": [
        "people['derek'] = 33  # new entry\n",
        "people['adam'] = 26   # modifies existing key-value pair"
      ],
      "outputs": [],
      "execution_count": null,
      "metadata": {}
    },
    {
      "cell_type": "code",
      "source": [
        "people"
      ],
      "outputs": [],
      "execution_count": null,
      "metadata": {}
    },
    {
      "cell_type": "markdown",
      "source": [
        "To remove a key, use del"
      ],
      "metadata": {}
    },
    {
      "cell_type": "code",
      "source": [
        "del people['carl']"
      ],
      "outputs": [],
      "execution_count": null,
      "metadata": {}
    },
    {
      "cell_type": "code",
      "source": [
        "people"
      ],
      "outputs": [],
      "execution_count": null,
      "metadata": {}
    },
    {
      "cell_type": "code",
      "source": [
        "people.pop()  # pop method requires a key that exists in the dictionary"
      ],
      "outputs": [],
      "execution_count": null,
      "metadata": {
        "tags": [
          "raises-exception"
        ]
      }
    },
    {
      "cell_type": "code",
      "source": [
        "people.pop('adam')"
      ],
      "outputs": [],
      "execution_count": null,
      "metadata": {}
    },
    {
      "cell_type": "code",
      "source": [
        "print(people)"
      ],
      "outputs": [],
      "execution_count": null,
      "metadata": {}
    },
    {
      "cell_type": "markdown",
      "source": [
        "`dict.update()` can be used to add more keys from another dictionary"
      ],
      "metadata": {}
    },
    {
      "cell_type": "code",
      "source": [
        "peopleA = {'adam':25 , 'bob': 19, 'carl': 30}"
      ],
      "outputs": [],
      "execution_count": null,
      "metadata": {}
    },
    {
      "cell_type": "code",
      "source": [
        "peopleB = {'dave':35 , 'earl': 22, 'fred': 27}"
      ],
      "outputs": [],
      "execution_count": null,
      "metadata": {}
    },
    {
      "cell_type": "code",
      "source": [
        "peopleA.update(peopleB)"
      ],
      "outputs": [],
      "execution_count": null,
      "metadata": {}
    },
    {
      "cell_type": "code",
      "source": [
        "peopleA"
      ],
      "outputs": [],
      "execution_count": null,
      "metadata": {}
    },
    {
      "cell_type": "markdown",
      "source": [
        "If the dictionary used to update has keys that exist in the first dictionary, the keys will be overwritten with the updated keys."
      ],
      "metadata": {}
    },
    {
      "cell_type": "code",
      "source": [
        "peopleA"
      ],
      "outputs": [],
      "execution_count": null,
      "metadata": {}
    },
    {
      "cell_type": "code",
      "source": [
        "peopleC = {'fred':99 , 'gary': 18}"
      ],
      "outputs": [],
      "execution_count": null,
      "metadata": {}
    },
    {
      "cell_type": "code",
      "source": [
        "peopleA.update(peopleC)"
      ],
      "outputs": [],
      "execution_count": null,
      "metadata": {}
    },
    {
      "cell_type": "code",
      "source": [
        "peopleA"
      ],
      "outputs": [],
      "execution_count": null,
      "metadata": {}
    },
    {
      "cell_type": "markdown",
      "source": [
        "## Dictionary view objects\n",
        "\n",
        "Dictionaries support dynamic view objects. This means that the values in the view objects change when the dictionary changes.\n",
        "\n",
        "the view objects are\n",
        "\n",
        "- `dict.keys()`\n",
        "- `dict.values()`\n",
        "- `dict.items()`"
      ],
      "metadata": {}
    },
    {
      "cell_type": "code",
      "source": [
        "people = {'adam':25 , 'bob': 19, 'carl': 30}"
      ],
      "outputs": [],
      "execution_count": null,
      "metadata": {}
    },
    {
      "cell_type": "code",
      "source": [
        "people"
      ],
      "outputs": [],
      "execution_count": null,
      "metadata": {}
    },
    {
      "cell_type": "code",
      "source": [
        "names = people.keys()\n",
        "ages = people.values()"
      ],
      "outputs": [],
      "execution_count": null,
      "metadata": {}
    },
    {
      "cell_type": "code",
      "source": [
        "names"
      ],
      "outputs": [],
      "execution_count": null,
      "metadata": {}
    },
    {
      "cell_type": "code",
      "source": [
        "ages"
      ],
      "outputs": [],
      "execution_count": null,
      "metadata": {}
    },
    {
      "cell_type": "code",
      "source": [
        "# I create a new key-value pair in the dictionary\n",
        "people['ed'] = 40"
      ],
      "outputs": [],
      "execution_count": null,
      "metadata": {}
    },
    {
      "cell_type": "code",
      "source": [
        "# without redefining what names or ages are, the view object updates\n",
        "names"
      ],
      "outputs": [],
      "execution_count": null,
      "metadata": {}
    },
    {
      "cell_type": "code",
      "source": [
        "ages"
      ],
      "outputs": [],
      "execution_count": null,
      "metadata": {}
    },
    {
      "cell_type": "markdown",
      "source": [
        "view objects support only a few functions: `len()` or `in`\n",
        "\n",
        "If you need to do more, you can convert them to a list or other iterable type, but you'll lose the dynamic quality"
      ],
      "metadata": {}
    },
    {
      "cell_type": "code",
      "source": [
        "len(ages)"
      ],
      "outputs": [],
      "execution_count": null,
      "metadata": {}
    },
    {
      "cell_type": "code",
      "source": [
        "35 in ages"
      ],
      "outputs": [],
      "execution_count": null,
      "metadata": {}
    },
    {
      "cell_type": "code",
      "source": [
        "age_list = list(ages)"
      ],
      "outputs": [],
      "execution_count": null,
      "metadata": {}
    },
    {
      "cell_type": "code",
      "source": [
        "age_list"
      ],
      "outputs": [],
      "execution_count": null,
      "metadata": {}
    },
    {
      "cell_type": "code",
      "source": [
        "# add a new key-value pair in the dictionary\n",
        "people['frank'] = 29"
      ],
      "outputs": [],
      "execution_count": null,
      "metadata": {}
    },
    {
      "cell_type": "code",
      "source": [
        "ages # the view object is dynamic"
      ],
      "outputs": [],
      "execution_count": null,
      "metadata": {}
    },
    {
      "cell_type": "code",
      "source": [
        "age_list # the list created earlier is not"
      ],
      "outputs": [],
      "execution_count": null,
      "metadata": {}
    }
  ],
  "metadata": {
    "kernelspec": {
      "name": "python3",
      "language": "python",
      "display_name": "Python 3"
    },
    "language_info": {
      "name": "python",
      "version": "3.7.3",
      "mimetype": "text/x-python",
      "codemirror_mode": {
        "name": "ipython",
        "version": 3
      },
      "pygments_lexer": "ipython3",
      "nbconvert_exporter": "python",
      "file_extension": ".py"
    },
    "kernel_info": {
      "name": "python3"
    },
    "nteract": {
      "version": "0.15.0"
    }
  },
  "nbformat": 4,
  "nbformat_minor": 2
}